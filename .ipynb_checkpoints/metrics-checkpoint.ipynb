{
 "cells": [
  {
   "cell_type": "markdown",
   "metadata": {},
   "source": [
    "# User Metrics\n",
    "\n",
    "Eddy Shyu"
   ]
  },
  {
   "cell_type": "code",
   "execution_count": 1,
   "metadata": {
    "collapsed": false
   },
   "outputs": [],
   "source": [
    "import psycopg2\n",
    "import pandas as pd\n",
    "import numpy as np\n",
    "import matplotlib.pyplot as plt\n",
    "#import seaborn as sns\n",
    "import math\n",
    "from datetime import datetime, timedelta\n",
    "%matplotlib inline"
   ]
  },
  {
   "cell_type": "code",
   "execution_count": 17,
   "metadata": {
    "collapsed": true
   },
   "outputs": [],
   "source": [
    "def query(q):\n",
    "    \"\"\"\n",
    "    Query and fetch data. Rollback if error\n",
    "    \"\"\"\n",
    "    try:\n",
    "        cur.execute(q)\n",
    "        return cur.fetchall()\n",
    "    except psycopg2.Error as e:\n",
    "        print(e.pgerror)\n",
    "        print(\"database error occured, rollback\")\n",
    "        con.rollback()"
   ]
  },
  {
   "cell_type": "code",
   "execution_count": 4,
   "metadata": {
    "collapsed": false
   },
   "outputs": [
    {
     "name": "stdout",
     "output_type": "stream",
     "text": [
      "column headers for ios_events are\n",
      "['timestamp', 'keyboardid', 'eventname', 'category', 'tags', 'riffid', 'appversion', 'isuserloggedin', 'hardwarecode', 'info', 'locale', 'tag1', 'tag2', 'actions', 'component', 'viewindex']\n"
     ]
    }
   ],
   "source": [
    "cur.execute(\"select * from ios_events limit 1;\")\n",
    "colnames = [desc[0] for desc in cur.description]\n",
    "print(\"column headers for ios_events are\")\n",
    "print(colnames)"
   ]
  },
  {
   "cell_type": "code",
   "execution_count": 5,
   "metadata": {
    "collapsed": false
   },
   "outputs": [
    {
     "name": "stdout",
     "output_type": "stream",
     "text": [
      "number of records in ios_events 56,775,015\n"
     ]
    }
   ],
   "source": [
    "#cur.execute()\n",
    "#num_records = cur.fetchall()\n",
    "\n",
    "num_records = query(\"select count(*) from ios_events as num_records;\")\n",
    "print(\"number of records in ios_events {:,}\".format(num_records[0][0]))"
   ]
  },
  {
   "cell_type": "markdown",
   "metadata": {
    "collapsed": true
   },
   "source": [
    "1. \"Warmup\" metrics:\n",
    "- Compute the aggregate \"share rate\": Ratio of shares to searches\n",
    "- Compute the share rate for the top 1000 most-searched terms\n",
    "- How many unique search terms are there? What does the distribution look like (consider the count per search term; plot or describe the results)?\n",
    "- How many unique gifs are shared? What does the distribution look like?"
   ]
  },
  {
   "cell_type": "code",
   "execution_count": 18,
   "metadata": {
    "collapsed": false
   },
   "outputs": [],
   "source": [
    "def get_ratio(col=\"eventname\", num=\"share\", den=\"textsearch\", table=\"ios_events\"):\n",
    "    n_num = query(\"select count({}) as n_{} from {} where {}='{}';\".format(col,num,table,col,num))[0][0]\n",
    "    n_den = query(\"select count({}) as n_{} from {} where {}='{}';\".format(col,den,table,col,den))[0][0]\n",
    "    ratio = float(n_num) / n_den\n",
    "    print(\"Ratio {} to {} is {:,}/{:,} = {:.4f}\".format(num, den, n_num, n_den, ratio))\n",
    "    return (ratio, n_num, n_den)"
   ]
  },
  {
   "cell_type": "code",
   "execution_count": 7,
   "metadata": {
    "collapsed": false
   },
   "outputs": [
    {
     "name": "stdout",
     "output_type": "stream",
     "text": [
      "Ratio share to textsearch is 22,512,088/34,262,927 = 0.6570\n"
     ]
    }
   ],
   "source": [
    "(ratio, n_share, n_search) = get_ratio(col=\"eventname\", num=\"share\", den=\"textsearch\", table=\"ios_events\")"
   ]
  },
  {
   "cell_type": "code",
   "execution_count": 8,
   "metadata": {
    "collapsed": false
   },
   "outputs": [
    {
     "data": {
      "image/png": "[encoded data removed]",
      "text/plain": [
       "<matplotlib.figure.Figure at 0x10c327828>"
      ]
     },
     "metadata": {},
     "output_type": "display_data"
    }
   ],
   "source": [
    "fig, ax = plt.subplots()\n",
    "cat = (\"share\", 'search')\n",
    "y_pos = np.arange(len(cat))\n",
    "counts = [n_share, n_search]\n",
    "\n",
    "ax.barh(y_pos, counts, align='center')\n",
    "ax.set_yticks(y_pos)\n",
    "ax.set_yticklabels(cat)\n",
    "ax.invert_yaxis()  # labels read top-to-bottom\n",
    "ax.set_xlabel('Counts')\n",
    "ax.set_title('Shares versus searches')\n",
    "\n",
    "plt.show()"
   ]
  },
  {
   "cell_type": "code",
   "execution_count": 19,
   "metadata": {
    "collapsed": true
   },
   "outputs": [],
   "source": [
    "def top_values_by_count(col=\"tags\", table=\"ios_events\", limit=10):\n",
    "    \"\"\"\n",
    "    query the top n values for a column.\n",
    "    Ignore case and spaces between words.\n",
    "    E.g. Wonder Woman and Wonderwoman are both interpreted as \"wonderwoman\"\n",
    "    \"\"\"\n",
    "    q_str = \"SELECT {}, COUNT({}) as n_{} FROM \\\n",
    "                (SELECT REPLACE(LOWER({}),' ','') AS {} FROM {} WHERE {} <> '') \\\n",
    "                GROUP BY {} \\\n",
    "                ORDER BY n_{} DESC\".format(col,col,col,\\\n",
    "                                          col,col,table,col,\\\n",
    "                                          col,\\\n",
    "                                          col)\n",
    "    if type(limit) == int:\n",
    "        q_str += \" LIMIT {};\".format(limit)\n",
    "    else:\n",
    "        q_str += \";\"\n",
    "    val_count = query(q_str)\n",
    "    return val_count\n"
   ]
  },
  {
   "cell_type": "code",
   "execution_count": 10,
   "metadata": {
    "collapsed": false
   },
   "outputs": [],
   "source": [
    "tags_count = top_values_by_count(col=\"tags\", table=\"ios_events\", limit=1000)"
   ]
  },
  {
   "cell_type": "code",
   "execution_count": 13,
   "metadata": {
    "collapsed": false
   },
   "outputs": [
    {
     "data": {
      "text/plain": [
       "[('yes', 795076),\n",
       " ('happybirthday', 477052),\n",
       " ('excited', 427425),\n",
       " ('eyeroll', 403631),\n",
       " ('recents', 371545)]"
      ]
     },
     "execution_count": 13,
     "metadata": {},
     "output_type": "execute_result"
    }
   ],
   "source": [
    "tags_count[0:5]"
   ]
  },
  {
   "cell_type": "code",
   "execution_count": 14,
   "metadata": {
    "collapsed": true
   },
   "outputs": [],
   "source": [
    "df_tags_count = pd.DataFrame(tags_count)\n",
    "df_tags_count.columns = ['tags','n_tags']\n",
    "df_tags_count = df_tags_count.set_index('tags')"
   ]
  },
  {
   "cell_type": "code",
   "execution_count": 15,
   "metadata": {
    "collapsed": false
   },
   "outputs": [
    {
     "data": {
      "image/png": "[encoded data removed]",
      "text/plain": [
       "<matplotlib.figure.Figure at 0x10c571c50>"
      ]
     },
     "metadata": {},
     "output_type": "display_data"
    }
   ],
   "source": [
    "tags_plot = df_tags_count[0:20][::-1].plot.barh();"
   ]
  },
  {
   "cell_type": "code",
   "execution_count": 16,
   "metadata": {
    "collapsed": false
   },
   "outputs": [],
   "source": [
    "tags_l = [ \"'\" + row[0] + \"'\" for row in tags_count ]"
   ]
  },
  {
   "cell_type": "code",
   "execution_count": 20,
   "metadata": {
    "collapsed": false
   },
   "outputs": [],
   "source": [
    "def get_ratio_most_frequent(col=\"eventname\", num=\"share\", den=\"textsearch\", \n",
    "                            table=\"ios_events\", col_cat=\"tags\", val_l=[]):\n",
    "    \n",
    "    top_tags_cond = \";\"\n",
    "    if len(val_l) > 0:\n",
    "        top_tags_cond = \" AND {} IN \".format(col_cat) + '(' + ','.join(val_l) + ');'\n",
    "    \n",
    "    q_num = \"select count({}) as n_{} from {} where {}='{}'\".format(col,num,table,col,num) + top_tags_cond\n",
    "    #print(q_num)\n",
    "    n_num = query(q_num)[0][0]\n",
    "    \n",
    "    q_den = \"select count({}) as n_{} from {} where {}='{}'\".format(col,den,table,col,den) + top_tags_cond\n",
    "    n_den = query(q_den)[0][0]\n",
    "    \n",
    "    ratio = float(n_num) / n_den\n",
    "    \n",
    "    print(\"Ratio {} to {} is {:,}/{:,} = {:.4f}\".format(num, den, n_num, n_den, ratio))\n",
    "    return (ratio, n_num, n_den)"
   ]
  },
  {
   "cell_type": "code",
   "execution_count": 18,
   "metadata": {
    "collapsed": false
   },
   "outputs": [
    {
     "name": "stdout",
     "output_type": "stream",
     "text": [
      "Ratio share to textsearch is 7,938,781/12,238,030 = 0.6487\n"
     ]
    }
   ],
   "source": [
    "(n_ratio, n_share, n_search) = get_ratio_most_frequent(col=\"eventname\", num=\"share\", den=\"textsearch\", \n",
    "                                                        table=\"ios_events\", col_cat=\"tags\", val_l=tags_l)"
   ]
  },
  {
   "cell_type": "code",
   "execution_count": 19,
   "metadata": {
    "collapsed": false
   },
   "outputs": [
    {
     "data": {
      "image/png": "[encoded data removed]",
      "text/plain": [
       "<matplotlib.figure.Figure at 0x10c77acc0>"
      ]
     },
     "metadata": {},
     "output_type": "display_data"
    }
   ],
   "source": [
    "fig, ax = plt.subplots()\n",
    "cat = (\"share\", 'search')\n",
    "y_pos = np.arange(len(cat))\n",
    "counts = [n_share, n_search]\n",
    "\n",
    "ax.barh(y_pos, counts, align='center')\n",
    "ax.set_yticks(y_pos)\n",
    "ax.set_yticklabels(cat)\n",
    "ax.invert_yaxis()  # labels read top-to-bottom\n",
    "ax.set_xlabel('Counts')\n",
    "ax.set_title('Shares versus Searches for Top 1000 Tags (Ignore Case and White Space)')\n",
    "\n",
    "plt.show()"
   ]
  },
  {
   "cell_type": "code",
   "execution_count": 20,
   "metadata": {
    "collapsed": true
   },
   "outputs": [],
   "source": [
    "tags_count_all = top_values_by_count(col=\"tags\", table=\"ios_events\", limit='')"
   ]
  },
  {
   "cell_type": "code",
   "execution_count": 21,
   "metadata": {
    "collapsed": false
   },
   "outputs": [
    {
     "name": "stdout",
     "output_type": "stream",
     "text": [
      "There are 2,104,907 distinct search values (ignoring case and white space)\n"
     ]
    }
   ],
   "source": [
    "print(\"There are {:,} distinct search values (ignoring case and white space)\".format(len(tags_count_all)))"
   ]
  },
  {
   "cell_type": "markdown",
   "metadata": {},
   "source": [
    "### Distribution of search term frequencies\n",
    "\n",
    "The distribution contains some highly frequent terms and a long tail of less frequent search terms.  The lower 75% have 1 to 3 searches.  There are 76 terms that have 100,000 or more searches for this time period (June 2017)."
   ]
  },
  {
   "cell_type": "code",
   "execution_count": 32,
   "metadata": {
    "collapsed": false
   },
   "outputs": [
    {
     "data": {
      "text/html": [
       "<div>\n",
       "<table border=\"1\" class=\"dataframe\">\n",
       "  <thead>\n",
       "    <tr style=\"text-align: right;\">\n",
       "      <th></th>\n",
       "      <th>1</th>\n",
       "    </tr>\n",
       "  </thead>\n",
       "  <tbody>\n",
       "    <tr>\n",
       "      <th>count</th>\n",
       "      <td>2.104907e+06</td>\n",
       "    </tr>\n",
       "    <tr>\n",
       "      <th>mean</th>\n",
       "      <td>2.612795e+01</td>\n",
       "    </tr>\n",
       "    <tr>\n",
       "      <th>std</th>\n",
       "      <td>1.461394e+03</td>\n",
       "    </tr>\n",
       "    <tr>\n",
       "      <th>min</th>\n",
       "      <td>1.000000e+00</td>\n",
       "    </tr>\n",
       "    <tr>\n",
       "      <th>25%</th>\n",
       "      <td>1.000000e+00</td>\n",
       "    </tr>\n",
       "    <tr>\n",
       "      <th>50%</th>\n",
       "      <td>1.000000e+00</td>\n",
       "    </tr>\n",
       "    <tr>\n",
       "      <th>75%</th>\n",
       "      <td>3.000000e+00</td>\n",
       "    </tr>\n",
       "    <tr>\n",
       "      <th>max</th>\n",
       "      <td>7.950760e+05</td>\n",
       "    </tr>\n",
       "  </tbody>\n",
       "</table>\n",
       "</div>"
      ],
      "text/plain": [
       "                  1\n",
       "count  2.104907e+06\n",
       "mean   2.612795e+01\n",
       "std    1.461394e+03\n",
       "min    1.000000e+00\n",
       "25%    1.000000e+00\n",
       "50%    1.000000e+00\n",
       "75%    3.000000e+00\n",
       "max    7.950760e+05"
      ]
     },
     "execution_count": 32,
     "metadata": {},
     "output_type": "execute_result"
    }
   ],
   "source": [
    "df_tags_count = pd.DataFrame(tags_count_all)\n",
    "df_tags_count.describe()"
   ]
  },
  {
   "cell_type": "code",
   "execution_count": null,
   "metadata": {
    "collapsed": true
   },
   "outputs": [],
   "source": []
  },
  {
   "cell_type": "code",
   "execution_count": 31,
   "metadata": {
    "collapsed": false
   },
   "outputs": [
    {
     "data": {
      "text/plain": [
       "76"
      ]
     },
     "execution_count": 31,
     "metadata": {},
     "output_type": "execute_result"
    }
   ],
   "source": [
    "len(df_tags_count[df_tags_count['n_tags'] > 100000])"
   ]
  },
  {
   "cell_type": "code",
   "execution_count": 25,
   "metadata": {
    "collapsed": false
   },
   "outputs": [
    {
     "data": {
      "image/png": "[encoded data removed]",
      "text/plain": [
       "<matplotlib.figure.Figure at 0x12b44ac18>"
      ]
     },
     "metadata": {},
     "output_type": "display_data"
    }
   ],
   "source": [
    "df_tags_count = pd.DataFrame(tags_count_all)\n",
    "df_tags_count.columns = ['tags','n_tags']\n",
    "tags_plot = df_tags_count[0:500][::-1].plot(kind='barh',title='Search term frequency distribution (top 500 out of 2.1 million)', figsize=(8,12));"
   ]
  },
  {
   "cell_type": "code",
   "execution_count": 26,
   "metadata": {
    "collapsed": false
   },
   "outputs": [
    {
     "data": {
      "image/png": "[encoded data removed]",
      "text/plain": [
       "<matplotlib.figure.Figure at 0x12b4e9860>"
      ]
     },
     "metadata": {},
     "output_type": "display_data"
    }
   ],
   "source": [
    "df_tags_count = pd.DataFrame(tags_count_all)\n",
    "df_tags_count.columns = ['tags','n_tags']\n",
    "df_tags_count = df_tags_count.set_index('tags')\n",
    "tags_plot = df_tags_count[0:30][::-1].plot(kind='barh',title='Top 30 most frequent search terms');"
   ]
  },
  {
   "cell_type": "code",
   "execution_count": null,
   "metadata": {
    "collapsed": true
   },
   "outputs": [],
   "source": []
  },
  {
   "cell_type": "markdown",
   "metadata": {},
   "source": [
    "## 2. Advanced metrics:\n",
    "- A \"search session\" is defined as a series of consecutive searches by a user, close in temporal proximity (typically on the order of seconds), that may or may not result in a share. Given the available data, how would you compute the average duration of a search session? Bonus: Estimate the average duration of a search session, and compute the ratio of shares to search sessions.\n",
    "\n",
    "#### Ideas: \n",
    "- If a series of searches are followed by a share, count that as a session, and then the next search is the start of a new session.  \n",
    "- If a series of searches do not end in a share, then decide on a maximum duration after which I'll consider the session has ended.  I'll use 30 seconds max duration before considering a session closed.  I'll also exclude the 30 second wait from the total.  So for instance, if there is a single search and 30 seconds pass without another action, I won't count that as a session, and won't add 30 seconds to the duration total.\n"
   ]
  },
  {
   "cell_type": "code",
   "execution_count": 484,
   "metadata": {
    "collapsed": true
   },
   "outputs": [],
   "source": [
    "SHARE = \"share\"\n",
    "TEXTSEARCH = \"textsearch\"\n",
    "MAX_DUR = 60 #session durations longer than this are considered outliers and will be excluded"
   ]
  },
  {
   "cell_type": "code",
   "execution_count": 9,
   "metadata": {
    "collapsed": false
   },
   "outputs": [],
   "source": [
    "class User(object):\n",
    "    MAX_DUR = 60 #session durations longer than this are considered outliers and will be excluded\n",
    "    def __init__(self, uid, latest_dt, latest_event, d_max=30):\n",
    "        self.uid = uid #user ID (keyboardid)\n",
    "        self.n_sess = 0 #number of sessions\n",
    "        self.d_sess = timedelta(seconds=0) #total session duration\n",
    "        self.n_share = 0 #number of shares\n",
    "        self.d_max = timedelta(seconds=d_max) #max duration allowed before starting a new session\n",
    "        self.start_dt = latest_dt #track the latest start session\n",
    "        self.latest_dt = latest_dt #track the latest record seen\n",
    "        self.latest_event = latest_event #either textsearch or share\n",
    "        self.t_dur = timedelta()\n",
    "        self.prev_sess_ended = False #set to true after session has closed\n",
    "        pass\n",
    "    \n",
    "    def get_n_sess(self):\n",
    "        return self.n_sess\n",
    "    \n",
    "    def get_d_sess(self):\n",
    "        return self.d_sess\n",
    "        \n",
    "    def get_n_share(self):\n",
    "        return self.n_share\n",
    "    \n",
    "    def get_share_per_sess(self):\n",
    "        return float(self.n_share) / float(self.n_sess)\n",
    "    \n",
    "    def add_dur(self,dur):            \n",
    "        \n",
    "        if dur.total_seconds() > 0 and dur.total_seconds() <= MAX_DUR:\n",
    "            self.d_sess += dur\n",
    "            self.n_sess += 1\n",
    "        \n",
    "    def get_avg(self):\n",
    "        \"\"\"\n",
    "        convert timedelta to float in seconds\n",
    "        because dividing the timedelta doesn't save decimals\n",
    "        \"\"\"\n",
    "        return float(self.d_sess.total_seconds()) / float(self.n_sess)\n",
    "    \n",
    "    def update(self, latest_dt, latest_event):\n",
    "        \"\"\"\n",
    "        Session is ongoing if:\n",
    "        Not shared yet, and no 30s of inactivity\n",
    "        latest_event != share and latest_dt - self.latest_dt <= self.d_max\n",
    "        \n",
    "        so update the self.latest_dt = latest_dt\n",
    "        \n",
    "        Session has completed and count session duration:\n",
    "        latest_event is \"share\"\n",
    "        OR\n",
    "        if there are 30 seconds of inactivity and there are at least two events\n",
    "        latest_dt - self.latest_dt > self.d_max and self.latest_dt > self.start_dt \n",
    "           \n",
    "        \"\"\"\n",
    "        dur = timedelta(0)\n",
    "        share = 0\n",
    "        #update dates if we should start a new session\n",
    "        if self.prev_sess_ended:\n",
    "            self.start_dt = latest_dt\n",
    "            self.latest_dt = latest_dt\n",
    "            self.prev_sess_ended = False\n",
    "        \n",
    "        #check incoming event to decide if session ended or continues\n",
    "        #session ended\n",
    "        if latest_event == SHARE:\n",
    "            dur = latest_dt - self.start_dt\n",
    "            self.start_dt = latest_dt\n",
    "            self.latest_dt = latest_dt\n",
    "            #count a share only if it's also a valid session\n",
    "            if dur.total_seconds() > 0 and dur.total_seconds() <= MAX_DUR:\n",
    "                self.n_share += 1\n",
    "                share = 1\n",
    "            self.prev_sess_ended = True\n",
    "            \n",
    "        #session ended by reaching max idle time, but don't count idle time\n",
    "        elif latest_dt - self.latest_dt > self.d_max:\n",
    "            dur = self.latest_dt - self.start_dt #notice, use self.latest_dt and not latest_dt to avoid counting idle time\n",
    "            self.start_dt = latest_dt\n",
    "            self.latest_dt = latest_dt\n",
    "            self.prev_sess_ended = True\n",
    "            \n",
    "        #session continues\n",
    "        else:\n",
    "            self.latest_dt = latest_dt\n",
    "            self.prev_sess_ended = False\n",
    "        \n",
    "        #a session longer than MAX_DUR is an outlier, so don't count it\n",
    "        if dur.total_seconds() > 0 and dur.total_seconds() <= MAX_DUR:\n",
    "            self.add_dur(dur)\n",
    "            return (1, dur, share)\n",
    "        else:\n",
    "            return (0, timedelta(seconds=0), share)\n",
    "        "
   ]
  },
  {
   "cell_type": "code",
   "execution_count": 505,
   "metadata": {
    "collapsed": false
   },
   "outputs": [
    {
     "name": "stderr",
     "output_type": "stream",
     "text": [
      "test_add_dur (__main__.TestUser) ... ok\n",
      "test_get_avg (__main__.TestUser) ... ok\n",
      "test_get_d_sess (__main__.TestUser) ... ok\n",
      "test_get_n_sess (__main__.TestUser) ... ok\n",
      "test_init (__main__.TestUser) ... ok\n",
      "test_update (__main__.TestUser) ... ok\n",
      "\n",
      "----------------------------------------------------------------------\n",
      "Ran 6 tests in 0.010s\n",
      "\n",
      "OK\n"
     ]
    }
   ],
   "source": [
    "import unittest\n",
    "\n",
    "class TestUser(unittest.TestCase):\n",
    "    def setUp(self):\n",
    "        self.user = User(uid='id0', latest_dt=datetime(2017,6,1,0,0,0), latest_event=\"textsearch\", d_max=30)\n",
    "        return\n",
    "\n",
    "    def tearDown(self):\n",
    "        self.user = None\n",
    "        return\n",
    "    \n",
    "    def test_init(self):\n",
    "        user1 = User(uid='id0', latest_dt=datetime(2017,6,1,0,1,0), latest_event=\"textsearch\", d_max=30)\n",
    "        self.assertEqual(user1.d_max.seconds,30)\n",
    "        self.assertEqual(user1.start_dt, datetime(2017,6,1,0,1,0))\n",
    "        self.assertEqual(user1.latest_dt, datetime(2017,6,1,0,1,0))\n",
    "        self.assertEqual(user1.latest_event,\"textsearch\")\n",
    "        self.assertEqual(user1.t_dur.seconds,0)\n",
    "        \n",
    "        user1 = None\n",
    "        \n",
    "    def test_get_n_sess(self):\n",
    "        self.assertEqual(self.user.get_n_sess(),0)\n",
    "        \n",
    "    def test_get_d_sess(self):\n",
    "        self.assertEqual(self.user.get_d_sess().seconds,0)\n",
    "        \n",
    "    def test_add_dur(self):\n",
    "        self.user.add_dur(timedelta(seconds=10))\n",
    "        self.assertEqual(self.user.d_sess.seconds,10)\n",
    "        self.assertEqual(self.user.n_sess,1)\n",
    "        \n",
    "        self.user.add_dur(timedelta(seconds=5))\n",
    "        self.assertEqual(self.user.d_sess.seconds,15)\n",
    "        self.assertEqual(self.user.n_sess,2)\n",
    "        \n",
    "    def test_get_avg(self):\n",
    "        self.user.add_dur(timedelta(seconds=10))\n",
    "        self.assertEqual(self.user.get_avg(),10)\n",
    "        \n",
    "        self.user.add_dur(timedelta(seconds=5))\n",
    "        self.assertEqual(self.user.get_avg(),7.5)\n",
    "        \n",
    "        \n",
    "    def test_update(self):\n",
    "        \n",
    "        #shared, end session; next event starts new session\n",
    "        n, dur, share = self.user.update(latest_dt=datetime(2017,6,1,0,0,1), latest_event=SHARE)\n",
    "        self.assertEqual(n,1)\n",
    "        self.assertEqual(self.user.d_sess.seconds,1)\n",
    "        self.assertEqual(self.user.n_sess,1)\n",
    "        self.assertEqual(self.user.n_share,1)\n",
    "        self.assertEqual(self.user.prev_sess_ended,True)\n",
    "        \n",
    "        #start of new session\n",
    "        n, dur, share = self.user.update(latest_dt=datetime(2017,6,1,0,0,2), latest_event=\"textsearch\")\n",
    "        self.assertEqual(n,0)\n",
    "        self.assertEqual(self.user.d_sess.seconds,1)\n",
    "        self.assertEqual(self.user.n_sess,1)\n",
    "        self.assertEqual(self.user.prev_sess_ended,False)\n",
    "        self.assertEqual(self.user.start_dt,datetime(2017,6,1,0,0,2))\n",
    "        self.assertEqual(self.user.latest_dt,datetime(2017,6,1,0,0,2))\n",
    "        \n",
    "        #continue session because idle time < 30s and not shared yet\n",
    "        n, dur, share = self.user.update(latest_dt=datetime(2017,6,1,0,0,3), latest_event=\"textsearch\")\n",
    "        self.assertEqual(n,0)\n",
    "        self.assertEqual(self.user.d_sess.seconds,1)\n",
    "        self.assertEqual(self.user.n_sess,1)\n",
    "        self.assertEqual(self.user.prev_sess_ended,False)\n",
    "        self.assertEqual(self.user.start_dt,datetime(2017,6,1,0,0,2))\n",
    "        self.assertEqual(self.user.latest_dt,datetime(2017,6,1,0,0,3))\n",
    "        \n",
    "        #continue session\n",
    "        n, dur, share = self.user.update(latest_dt=datetime(2017,6,1,0,0,4), latest_event=\"textsearch\")\n",
    "        self.assertEqual(n,0)\n",
    "        self.assertEqual(self.user.d_sess.seconds,1)\n",
    "        self.assertEqual(self.user.n_sess,1)\n",
    "        self.assertEqual(self.user.prev_sess_ended,False)\n",
    "        self.assertEqual(self.user.start_dt,datetime(2017,6,1,0,0,2))\n",
    "        self.assertEqual(self.user.latest_dt,datetime(2017,6,1,0,0,4))\n",
    "        \n",
    "        #session idle for >30s, end session but don't count idle time        \n",
    "        n, dur, share = self.user.update(latest_dt=datetime(2017,6,1,0,0,35), latest_event=\"textsearch\")\n",
    "        self.assertEqual(n,1)\n",
    "        self.assertEqual(dur.seconds,2)\n",
    "        self.assertEqual(self.user.d_sess.seconds,3)\n",
    "        self.assertEqual(self.user.n_sess,2)\n",
    "        self.assertEqual(self.user.prev_sess_ended,True)\n",
    "        self.assertEqual(self.user.start_dt,datetime(2017,6,1,0,0,35))\n",
    "        self.assertEqual(self.user.latest_dt,datetime(2017,6,1,0,0,35))\n",
    "        \n",
    "        #start a session, wait a long time, then follow with a share \n",
    "        n, dur, share = self.user.update(latest_dt=datetime(2017,6,1,1,0,0), latest_event=\"textsearch\")\n",
    "        self.assertEqual(n,0)\n",
    "        self.assertEqual(dur.seconds,0)\n",
    "        self.assertEqual(self.user.d_sess.seconds,3)\n",
    "        self.assertEqual(self.user.n_sess,2)\n",
    "        self.assertEqual(self.user.prev_sess_ended,False)\n",
    "        self.assertEqual(self.user.start_dt,datetime(2017,6,1,1,0,0))\n",
    "        self.assertEqual(self.user.latest_dt,datetime(2017,6,1,1,0,0))\n",
    "        \n",
    "        #finish with a shared session 61 seconds later (exceeds MAX_DUR, so don't count this)\n",
    "        n, dur, share = self.user.update(latest_dt=datetime(2017,6,1,1,1,1), latest_event=SHARE)\n",
    "        self.assertEqual(n,0)\n",
    "        self.assertEqual(dur.total_seconds(),0)\n",
    "        self.assertEqual(self.user.d_sess.seconds,3)\n",
    "        self.assertEqual(self.user.n_sess,2)\n",
    "        self.assertEqual(self.user.n_share,1)\n",
    "        self.assertEqual(self.user.prev_sess_ended,True)\n",
    "        self.assertEqual(self.user.start_dt,datetime(2017,6,1,1,1,1))\n",
    "        self.assertEqual(self.user.latest_dt,datetime(2017,6,1,1,1,1))\n",
    "        \n",
    "        #start with a shared session (normally shouldn't happen unless after midnight)\n",
    "        #don't count as a session cuz there's zero duration\n",
    "        n, dur, share = self.user.update(latest_dt=datetime(2017,6,1,1,2,0), latest_event=SHARE)\n",
    "        self.assertEqual(n,0)\n",
    "        self.assertEqual(dur.seconds,0)\n",
    "        self.assertEqual(self.user.d_sess.seconds,3)\n",
    "        self.assertEqual(self.user.n_sess,2)\n",
    "        self.assertEqual(self.user.n_share,1)\n",
    "        self.assertEqual(self.user.prev_sess_ended,True)\n",
    "        self.assertEqual(self.user.start_dt,datetime(2017,6,1,1,2,0))\n",
    "        self.assertEqual(self.user.latest_dt,datetime(2017,6,1,1,2,0))\n",
    "        \n",
    "        #start a search and let it time out\n",
    "        n, dur, share = self.user.update(latest_dt=datetime(2017,6,1,1,3,0), latest_event=\"textsearch\")\n",
    "        self.assertEqual(n,0)\n",
    "        self.assertEqual(dur.seconds,0)\n",
    "        self.assertEqual(self.user.d_sess.seconds,3)\n",
    "        self.assertEqual(self.user.n_sess,2)\n",
    "        self.assertEqual(self.user.prev_sess_ended,False)\n",
    "        self.assertEqual(self.user.start_dt,datetime(2017,6,1,1,3,0))\n",
    "        self.assertEqual(self.user.latest_dt,datetime(2017,6,1,1,3,0))\n",
    "        \n",
    "        #start another search (previous one timed out)\n",
    "        n, dur, share = self.user.update(latest_dt=datetime(2017,6,1,1,4,0), latest_event=\"textsearch\")\n",
    "        self.assertEqual(n,0)\n",
    "        self.assertEqual(dur.seconds,0)\n",
    "        self.assertEqual(self.user.d_sess.seconds,3)\n",
    "        self.assertEqual(self.user.n_sess,2)\n",
    "        self.assertEqual(self.user.prev_sess_ended,True)\n",
    "        self.assertEqual(self.user.start_dt,datetime(2017,6,1,1,4,0))\n",
    "        self.assertEqual(self.user.latest_dt,datetime(2017,6,1,1,4,0))\n",
    "        \n",
    "        #verify shares_per_sess()\n",
    "        self.assertEqual(self.user.get_share_per_sess(),1./2.)\n",
    "        \n",
    "        #verify average duration of 3 sessions\n",
    "        \n",
    "        self.assertEqual(self.user.get_avg(), 3./2.)\n",
    "        \n",
    "    \n",
    "if __name__ == '__main__':\n",
    "    suite = unittest.TestLoader().loadTestsFromTestCase(TestUser)\n",
    "    unittest.TextTestRunner(verbosity=2).run(suite)"
   ]
  },
  {
   "cell_type": "code",
   "execution_count": 8,
   "metadata": {
    "collapsed": false
   },
   "outputs": [],
   "source": [
    "class Agg(object):\n",
    "    \n",
    "    def __init__(self):\n",
    "        self.user_d = dict() #key is user id, value is User object\n",
    "        self.n_sess = 0 #number of sessions of type timedelta\n",
    "        self.d_sess = timedelta(seconds=0) #total duration of all sessions of type timedelta\n",
    "        self.n_share = 0\n",
    "        self.d_sess_l = [] #store a list of the individual session durations\n",
    "            \n",
    "    def get(self,uid):\n",
    "        return self.user_d.get(uid)\n",
    "    \n",
    "    def get_n_sess(self):\n",
    "        return self.n_sess\n",
    "    \n",
    "    def get_d_sess(self):\n",
    "        return self.d_sess\n",
    "    \n",
    "    def get_n_share(self):\n",
    "        return self.n_share\n",
    "    \n",
    "    def get_d_sess_l(self):\n",
    "        return self.d_sess_l\n",
    "    \n",
    "    def get_share_per_sess(self):\n",
    "        return float(self.n_share) / float(self.n_sess)\n",
    "    \n",
    "    def add(self,user):\n",
    "        self.user_d[user.uid] = user\n",
    "        \n",
    "    def update(self,row):\n",
    "        row_d = self.row_to_dict(row)\n",
    "        user = self.get(row_d['uid'])\n",
    "        if user == None:\n",
    "            user = User(uid=row_d['uid'], latest_dt=row_d['date_time'], latest_event=row_d['eventname'], d_max=30)\n",
    "            self.add(user)\n",
    "        else:\n",
    "            n, dur, share = user.update(latest_dt=row_d['date_time'], latest_event=row_d['eventname'])\n",
    "            if n == 1:\n",
    "                self.n_sess += 1\n",
    "                self.d_sess += dur\n",
    "                self.d_sess_l.append(dur.total_seconds())\n",
    "            if share == 1:\n",
    "                self.n_share += 1\n",
    "    \n",
    "    def get_avg(self):\n",
    "        return float(self.d_sess.total_seconds()) / float(self.n_sess)\n",
    "    \n",
    "    def row_to_dict(self,row):\n",
    "        return {\n",
    "            'date_time': row[0],\n",
    "            'uid' : row[1],\n",
    "            'eventname': row[2]}\n",
    "        "
   ]
  },
  {
   "cell_type": "code",
   "execution_count": 507,
   "metadata": {
    "collapsed": false
   },
   "outputs": [
    {
     "name": "stderr",
     "output_type": "stream",
     "text": [
      "test_add (__main__.TestAgg) ... ok\n",
      "test_get (__main__.TestAgg) ... ok\n",
      "test_init (__main__.TestAgg) ... ok\n",
      "test_row_to_dict (__main__.TestAgg) ... ok\n",
      "test_update (__main__.TestAgg) ... ok\n",
      "\n",
      "----------------------------------------------------------------------\n",
      "Ran 5 tests in 0.006s\n",
      "\n",
      "OK\n"
     ]
    }
   ],
   "source": [
    "import unittest\n",
    "\n",
    "class TestAgg(unittest.TestCase):\n",
    "    def setUp(self):\n",
    "        self.agg = Agg()\n",
    "        return\n",
    "\n",
    "    def tearDown(self):\n",
    "        self.agg = None\n",
    "        return\n",
    "    \n",
    "    def test_init(self):\n",
    "        self.assertEqual(self.agg.user_d,dict())\n",
    "        self.assertEqual(self.agg.n_sess,0)\n",
    "        self.assertEqual(self.agg.d_sess.seconds,0)\n",
    " \n",
    "    def test_add(self):\n",
    "        user1 = User(uid='id1', latest_dt=datetime(2017,6,1,0,0,0), latest_event=\"textsearch\", d_max=30)\n",
    "        user2 = User(uid='id2', latest_dt=datetime(2017,6,1,0,1,0), latest_event=\"textsearch\", d_max=30)\n",
    "        \n",
    "        self.agg.add(user1)\n",
    "        self.agg.add(user2)\n",
    "        self.assertEqual(self.agg.user_d['id1'], user1)\n",
    "        self.assertEqual(self.agg.user_d['id2'], user2)\n",
    "        \n",
    "    def test_get(self):\n",
    "        \n",
    "        user1 = User(uid='id1', latest_dt=datetime(2017,6,1,0,0,0), latest_event=\"textsearch\", d_max=30)\n",
    "        self.agg.add(user1)\n",
    "        self.assertEqual(self.agg.get('id1'),user1)\n",
    "        \n",
    "        self.assertIsNone(self.agg.user_d.get('id9'))\n",
    "     \n",
    "    def test_row_to_dict(self):\n",
    "        row = (datetime(2017, 6, 1, 0, 0), 'id1', 'textsearch')\n",
    "        row_d = self.agg.row_to_dict(row)\n",
    "        \n",
    "        self.assertEqual(row_d,\n",
    "                         {'date_time': datetime(2017,6,1,0,0),\n",
    "                            'uid' : 'id1',\n",
    "                            'eventname': 'textsearch'})\n",
    "    \n",
    "    def test_update(self):\n",
    "        \n",
    "        #add 1 user\n",
    "        self.agg.update((datetime(2017, 6, 1, 0, 0, 0), 'id1', 'textsearch'))\n",
    "        self.assertEqual(self.agg.user_d.get('id1').uid,'id1')\n",
    "        self.assertIsNone(self.agg.user_d.get('id9'))\n",
    "        \n",
    "        #continue session\n",
    "        self.agg.update((datetime(2017, 6, 1, 0, 0, 0), 'id1', 'textsearch'))\n",
    "        self.assertEqual(self.agg.n_sess,0)\n",
    "        self.assertEqual(self.agg.d_sess.seconds,0)\n",
    "        \n",
    "        #shared, end session\n",
    "        self.agg.update((datetime(2017, 6, 1, 0, 0, 2), 'id1', \"share\"))\n",
    "        self.assertEqual(self.agg.n_sess,1)\n",
    "        self.assertEqual(self.agg.d_sess.seconds,2)\n",
    "        self.assertEqual(self.agg.get_n_share(),1)\n",
    "        \n",
    "        #add 2nd user\n",
    "        self.agg.update((datetime(2017, 6, 1, 1, 0, 0), 'id2', 'textsearch'))\n",
    "        self.assertEqual(self.agg.n_sess,1)\n",
    "        self.assertEqual(self.agg.d_sess.seconds,2)\n",
    "        \n",
    "        #continue session\n",
    "        self.agg.update((datetime(2017, 6, 1, 1, 0, 2), 'id2', 'textsearch'))\n",
    "        self.assertEqual(self.agg.n_sess,1)\n",
    "        self.assertEqual(self.agg.d_sess.seconds,2)\n",
    "        \n",
    "        #time out session of user 2\n",
    "        self.agg.update((datetime(2017, 6, 1, 1, 2, 0), 'id2', 'textsearch'))\n",
    "        self.assertEqual(self.agg.n_sess,2)\n",
    "        self.assertEqual(self.agg.d_sess.seconds,4)\n",
    "        \n",
    "        #test shares_per_sess()\n",
    "        self.assertEqual(self.agg.get_share_per_sess(),1./2.)\n",
    "        \n",
    "        #start a session and then share\n",
    "        self.agg.update((datetime(2017, 6, 1, 1, 3, 0), 'id2', 'textsearch'))\n",
    "        self.assertEqual(self.agg.n_sess,2)\n",
    "        self.assertEqual(self.agg.d_sess.seconds,4)\n",
    "        self.assertEqual(self.agg.get_n_share(),1)\n",
    "        \n",
    "        self.agg.update((datetime(2017, 6, 1, 1, 3, 1), 'id2', \"share\"))\n",
    "        self.assertEqual(self.agg.n_sess,3)\n",
    "        self.assertEqual(self.agg.d_sess.seconds,5)\n",
    "        self.assertEqual(self.agg.get_n_share(),2)\n",
    "        \n",
    "        #test average\n",
    "        self.assertEqual(self.agg.get_avg(),5./3.)\n",
    "        \n",
    "        #test d_sess_l\n",
    "        self.assertEqual(self.agg.get_d_sess_l(),[2,2,1])\n",
    "    \n",
    "if __name__ == '__main__':\n",
    "    suite = unittest.TestLoader().loadTestsFromTestCase(TestAgg)\n",
    "    unittest.TextTestRunner(verbosity=2).run(suite)"
   ]
  },
  {
   "cell_type": "code",
   "execution_count": 21,
   "metadata": {
    "collapsed": true
   },
   "outputs": [],
   "source": [
    "def get_user_ids():\n",
    "    q_uid = \"\"\"\n",
    "            select keyboardid, count(keyboardid) as n_\n",
    "            from ios_events\n",
    "            group by keyboardid\n",
    "            having count(keyboardid) > 1\n",
    "            order by n_ desc;\n",
    "            \"\"\"\n",
    "    uids_n = query(q_uid)\n",
    "    uids = [row[0] for row in uids_n]\n",
    "    return (uids, uids_n)"
   ]
  },
  {
   "cell_type": "code",
   "execution_count": 22,
   "metadata": {
    "collapsed": false
   },
   "outputs": [
    {
     "name": "stdout",
     "output_type": "stream",
     "text": [
      "\n",
      "            select keyboardid, count(keyboardid) as n_\n",
      "            from ios_events\n",
      "            group by keyboardid\n",
      "            having count(keyboardid) > 1\n",
      "            order by n_ desc;\n",
      "            \n"
     ]
    }
   ],
   "source": [
    "uids, uids_n = get_user_ids()"
   ]
  },
  {
   "cell_type": "code",
   "execution_count": 27,
   "metadata": {
    "collapsed": false
   },
   "outputs": [
    {
     "name": "stdout",
     "output_type": "stream",
     "text": [
      "There are 1,997,860 users that have more than 1 search/share recorded\n"
     ]
    }
   ],
   "source": [
    "print(\"There are {:,} users that have more than 1 search/share recorded\".format(len(uids)))"
   ]
  },
  {
   "cell_type": "code",
   "execution_count": 371,
   "metadata": {
    "collapsed": true
   },
   "outputs": [],
   "source": [
    "def process_sess(t_start=\"2017-06-01 00:00:00\",t_end=\"2017-06-02 00:00:00\"):\n",
    "    \"\"\"\n",
    "    process records for a defined date range (e.g. one day)\n",
    "    \"\"\"\n",
    "    q = \"select \\\"timestamp\\\" as date_time, keyboardid, eventname \\\n",
    "        from ios_events \\\n",
    "        WHERE date_time >= '{}' \\\n",
    "         AND  date_time <  '{}' \\\n",
    "        order by date_time; \\\n",
    "        \".format(t_start,t_end)\n",
    "    cur.execute(q)\n",
    "    agg = Agg() #aggregate for this time period, for all users\n",
    "    n = 0\n",
    "    for row in cur:\n",
    "        agg.update(row)\n",
    "        n+=1\n",
    "    print(\"n {:,} rows\".format(n))\n",
    "    return agg\n"
   ]
  },
  {
   "cell_type": "code",
   "execution_count": 6,
   "metadata": {
    "collapsed": false
   },
   "outputs": [],
   "source": [
    "import pickle\n",
    "def process_multi(g_start=datetime(2017,6,1),n_days=2):\n",
    "    \n",
    "    start = g_start\n",
    "    for n in range(n_days):\n",
    "        end = start + timedelta(days=1)\n",
    "        t_start = \"{:04d}-{:02d}-{:02d} 00:00:00\".format(start.year,start.month,start.day)\n",
    "        t_end =   \"{:04d}-{:02d}-{:02d} 00:00:00\".format(end.year,end.month,end.day)\n",
    "\n",
    "        agg = process_sess(t_start,t_end)\n",
    "        agg.user_d = None #save space before serializing\n",
    "        \n",
    "        fname = 'agg_{:04d}_{:02d}_{:02d}.p'.format(start.year,start.month,start.day)\n",
    "        pickle.dump(agg, open(fname,\"wb\"))\n",
    "        print(\"pickled \" + fname)\n",
    "        \n",
    "        start = start + timedelta(days=1)\n",
    "        \n",
    "    return"
   ]
  },
  {
   "cell_type": "code",
   "execution_count": 508,
   "metadata": {
    "collapsed": false
   },
   "outputs": [
    {
     "name": "stdout",
     "output_type": "stream",
     "text": [
      "n 1,976,077 rows\n",
      "pickled agg_2017_06_01.p\n",
      "n 1,881,141 rows\n",
      "pickled agg_2017_06_02.p\n",
      "n 1,433,344 rows\n",
      "pickled agg_2017_06_03.p\n",
      "n 1,424,937 rows\n",
      "pickled agg_2017_06_04.p\n",
      "n 1,778,132 rows\n",
      "pickled agg_2017_06_05.p\n",
      "n 1,913,945 rows\n",
      "pickled agg_2017_06_06.p\n",
      "n 2,001,536 rows\n",
      "pickled agg_2017_06_07.p\n",
      "n 2,025,651 rows\n",
      "pickled agg_2017_06_08.p\n",
      "n 1,837,298 rows\n",
      "pickled agg_2017_06_09.p\n",
      "n 1,397,171 rows\n",
      "pickled agg_2017_06_10.p\n",
      "n 1,386,731 rows\n",
      "pickled agg_2017_06_11.p\n",
      "n 1,871,374 rows\n",
      "pickled agg_2017_06_12.p\n",
      "n 1,919,026 rows\n",
      "pickled agg_2017_06_13.p\n",
      "n 1,880,359 rows\n",
      "pickled agg_2017_06_14.p\n",
      "n 2,057,166 rows\n",
      "pickled agg_2017_06_15.p\n",
      "n 2,011,328 rows\n",
      "pickled agg_2017_06_16.p\n",
      "n 1,500,340 rows\n",
      "pickled agg_2017_06_17.p\n",
      "n 1,745,723 rows\n",
      "pickled agg_2017_06_18.p\n",
      "n 1,883,161 rows\n",
      "pickled agg_2017_06_19.p\n",
      "n 2,086,954 rows\n",
      "pickled agg_2017_06_20.p\n",
      "n 2,136,016 rows\n",
      "pickled agg_2017_06_21.p\n",
      "n 2,212,300 rows\n",
      "pickled agg_2017_06_22.p\n",
      "n 2,193,466 rows\n",
      "pickled agg_2017_06_23.p\n",
      "n 1,610,784 rows\n",
      "pickled agg_2017_06_24.p\n",
      "n 1,539,593 rows\n",
      "pickled agg_2017_06_25.p\n",
      "n 2,017,972 rows\n",
      "pickled agg_2017_06_26.p\n",
      "n 2,170,197 rows\n",
      "pickled agg_2017_06_27.p\n",
      "n 2,250,205 rows\n",
      "pickled agg_2017_06_28.p\n",
      "n 2,337,839 rows\n",
      "pickled agg_2017_06_29.p\n",
      "n 2,295,249 rows\n",
      "pickled agg_2017_06_30.p\n"
     ]
    }
   ],
   "source": [
    "process_multi(g_start=datetime(2017,6,1),n_days=30)"
   ]
  },
  {
   "cell_type": "code",
   "execution_count": 4,
   "metadata": {
    "collapsed": false
   },
   "outputs": [],
   "source": [
    "from collections import OrderedDict\n",
    "def load_agg(g_start = datetime(2017,6,1), n_days=30):\n",
    "    agg_d = OrderedDict()\n",
    "    \n",
    "    start = g_start\n",
    "    for n in range(n_days):\n",
    "        fname = 'agg_{:04d}_{:02d}_{:02d}.p'.format(start.year,start.month,start.day)\n",
    "        agg_d['{:04d}_{:02d}_{:02d}'.format(start.year,start.month,start.day)] = pickle.load(open(fname,\"rb\"))\n",
    "        start = start + timedelta(days=1)\n",
    "    \n",
    "    return agg_d"
   ]
  },
  {
   "cell_type": "code",
   "execution_count": 106,
   "metadata": {
    "collapsed": false
   },
   "outputs": [],
   "source": [
    "agg_d = load_agg(g_start = datetime(2017,6,1), n_days=30)"
   ]
  },
  {
   "cell_type": "code",
   "execution_count": 107,
   "metadata": {
    "collapsed": true
   },
   "outputs": [],
   "source": [
    "\n",
    "def agg_attr(agg_d):\n",
    "    date_label = []\n",
    "    agg_l = []\n",
    "    n_sess = []\n",
    "    d_sess = []\n",
    "    d_sess_l = []\n",
    "    avg_sess = []\n",
    "    n_share = []\n",
    "    share_per_sess = []\n",
    "    \n",
    "    for k in agg_d.keys():\n",
    "        date_label.append(k)\n",
    "        agg_l.append(agg_d[k])\n",
    "        n_sess.append(agg_d[k].get_n_sess())\n",
    "        d_sess.append(agg_d[k].get_d_sess())\n",
    "        d_sess_l.append(agg_d[k].get_d_sess_l())\n",
    "        avg_sess.append(agg_d[k].get_avg())\n",
    "        n_share.append(agg_d[k].get_n_share())\n",
    "        share_per_sess.append(agg_d[k].get_share_per_sess())\n",
    "        \n",
    "    return date_label, agg_l, n_sess, d_sess, d_sess_l, avg_sess, n_share, share_per_sess\n"
   ]
  },
  {
   "cell_type": "code",
   "execution_count": 108,
   "metadata": {
    "collapsed": false
   },
   "outputs": [],
   "source": [
    "date_label, agg_l, n_sess, d_sess, d_sess_l, avg_sess, n_share, share_per_sess = agg_attr(agg_d)"
   ]
  },
  {
   "cell_type": "code",
   "execution_count": null,
   "metadata": {
    "collapsed": true
   },
   "outputs": [],
   "source": []
  },
  {
   "cell_type": "code",
   "execution_count": 481,
   "metadata": {
    "collapsed": false
   },
   "outputs": [
    {
     "data": {
      "image/png": "[encoded data removed]",
      "text/plain": [
       "<matplotlib.figure.Figure at 0x162cfb710>"
      ]
     },
     "metadata": {},
     "output_type": "display_data"
    }
   ],
   "source": [
    "#session duration histogram: without setting a max duration, there are outliers that skew the results\n",
    "plt.hist(d_sess_l[0],bins=100, range=(0,120));"
   ]
  },
  {
   "cell_type": "code",
   "execution_count": 514,
   "metadata": {
    "collapsed": false
   },
   "outputs": [
    {
     "data": {
      "image/png": "[encoded data removed]",
      "text/plain": [
       "<matplotlib.figure.Figure at 0x147c9def0>"
      ]
     },
     "metadata": {},
     "output_type": "display_data"
    }
   ],
   "source": [
    "#session duration histogram: by removing outliers, we keep the more representative examples\n",
    "plt.hist(d_sess_l[0],bins=100, range=(0,120));"
   ]
  },
  {
   "cell_type": "code",
   "execution_count": 516,
   "metadata": {
    "collapsed": false
   },
   "outputs": [
    {
     "data": {
      "image/png": "[encoded data removed]",
      "text/plain": [
       "<matplotlib.figure.Figure at 0x16838c0f0>"
      ]
     },
     "metadata": {},
     "output_type": "display_data"
    }
   ],
   "source": [
    "y_pos = np.arange(1,len(date_label)+1)\n",
    "\n",
    "plt.plot(y_pos, avg_sess)\n",
    "plt.ylim([0,20])\n",
    "plt.xticks(y_pos, date_label, rotation='vertical')\n",
    "plt.ylabel('average session duration (seconds)')\n",
    "plt.title('Session duration for each day in June 2017')\n",
    "plt.show()"
   ]
  },
  {
   "cell_type": "code",
   "execution_count": 522,
   "metadata": {
    "collapsed": false
   },
   "outputs": [
    {
     "data": {
      "text/html": [
       "<div>\n",
       "<table border=\"1\" class=\"dataframe\">\n",
       "  <thead>\n",
       "    <tr style=\"text-align: right;\">\n",
       "      <th></th>\n",
       "      <th>0</th>\n",
       "    </tr>\n",
       "  </thead>\n",
       "  <tbody>\n",
       "    <tr>\n",
       "      <th>count</th>\n",
       "      <td>30.000000</td>\n",
       "    </tr>\n",
       "    <tr>\n",
       "      <th>mean</th>\n",
       "      <td>16.150043</td>\n",
       "    </tr>\n",
       "    <tr>\n",
       "      <th>std</th>\n",
       "      <td>0.254821</td>\n",
       "    </tr>\n",
       "    <tr>\n",
       "      <th>min</th>\n",
       "      <td>15.620680</td>\n",
       "    </tr>\n",
       "    <tr>\n",
       "      <th>25%</th>\n",
       "      <td>16.061014</td>\n",
       "    </tr>\n",
       "    <tr>\n",
       "      <th>50%</th>\n",
       "      <td>16.140597</td>\n",
       "    </tr>\n",
       "    <tr>\n",
       "      <th>75%</th>\n",
       "      <td>16.245626</td>\n",
       "    </tr>\n",
       "    <tr>\n",
       "      <th>max</th>\n",
       "      <td>16.871617</td>\n",
       "    </tr>\n",
       "  </tbody>\n",
       "</table>\n",
       "</div>"
      ],
      "text/plain": [
       "               0\n",
       "count  30.000000\n",
       "mean   16.150043\n",
       "std     0.254821\n",
       "min    15.620680\n",
       "25%    16.061014\n",
       "50%    16.140597\n",
       "75%    16.245626\n",
       "max    16.871617"
      ]
     },
     "execution_count": 522,
     "metadata": {},
     "output_type": "execute_result"
    }
   ],
   "source": [
    "avg_sess_df = pd.DataFrame(avg_sess)\n",
    "avg_sess_df.describe()"
   ]
  },
  {
   "cell_type": "code",
   "execution_count": 517,
   "metadata": {
    "collapsed": false
   },
   "outputs": [
    {
     "data": {
      "image/png": "[encoded data removed]",
      "text/plain": [
       "<matplotlib.figure.Figure at 0x160544d68>"
      ]
     },
     "metadata": {},
     "output_type": "display_data"
    }
   ],
   "source": [
    "y_pos = np.arange(1,len(date_label)+1)\n",
    "plt.plot(y_pos, share_per_sess)\n",
    "plt.ylim([0,1])\n",
    "plt.xticks(y_pos, date_label, rotation='vertical')\n",
    "plt.ylabel('Ratio Shares/Session')\n",
    "plt.title('Share per Session for Each Day in June 2017')\n",
    "plt.show()"
   ]
  },
  {
   "cell_type": "code",
   "execution_count": 523,
   "metadata": {
    "collapsed": false
   },
   "outputs": [
    {
     "data": {
      "text/html": [
       "<div>\n",
       "<table border=\"1\" class=\"dataframe\">\n",
       "  <thead>\n",
       "    <tr style=\"text-align: right;\">\n",
       "      <th></th>\n",
       "      <th>0</th>\n",
       "    </tr>\n",
       "  </thead>\n",
       "  <tbody>\n",
       "    <tr>\n",
       "      <th>count</th>\n",
       "      <td>30.000000</td>\n",
       "    </tr>\n",
       "    <tr>\n",
       "      <th>mean</th>\n",
       "      <td>0.942307</td>\n",
       "    </tr>\n",
       "    <tr>\n",
       "      <th>std</th>\n",
       "      <td>0.003289</td>\n",
       "    </tr>\n",
       "    <tr>\n",
       "      <th>min</th>\n",
       "      <td>0.928531</td>\n",
       "    </tr>\n",
       "    <tr>\n",
       "      <th>25%</th>\n",
       "      <td>0.940900</td>\n",
       "    </tr>\n",
       "    <tr>\n",
       "      <th>50%</th>\n",
       "      <td>0.942518</td>\n",
       "    </tr>\n",
       "    <tr>\n",
       "      <th>75%</th>\n",
       "      <td>0.943987</td>\n",
       "    </tr>\n",
       "    <tr>\n",
       "      <th>max</th>\n",
       "      <td>0.947232</td>\n",
       "    </tr>\n",
       "  </tbody>\n",
       "</table>\n",
       "</div>"
      ],
      "text/plain": [
       "               0\n",
       "count  30.000000\n",
       "mean    0.942307\n",
       "std     0.003289\n",
       "min     0.928531\n",
       "25%     0.940900\n",
       "50%     0.942518\n",
       "75%     0.943987\n",
       "max     0.947232"
      ]
     },
     "execution_count": 523,
     "metadata": {},
     "output_type": "execute_result"
    }
   ],
   "source": [
    "share_per_sess_df = pd.DataFrame(share_per_sess)\n",
    "share_per_sess_df.describe()"
   ]
  },
  {
   "cell_type": "code",
   "execution_count": 101,
   "metadata": {
    "collapsed": false
   },
   "outputs": [],
   "source": [
    "\n",
    "def agg_monthly(agg_d):\n",
    "    \"\"\"\n",
    "    Aggregate daily date to monthly average duratio, monthly share per session\n",
    "    \"\"\"\n",
    "    d_total = 0\n",
    "    n = 0\n",
    "    share = 0\n",
    "    for k, v in agg_d.items():\n",
    "        d_total += v.get_d_sess().total_seconds()\n",
    "        n += v.get_n_sess()\n",
    "        share += v.get_n_share()\n",
    "\n",
    "    monthly_avg = float(d_total) / n\n",
    "    monthly_share_per_sess = float(share) / n\n",
    "\n",
    "    return monthly_avg, monthly_share_per_sess\n"
   ]
  },
  {
   "cell_type": "code",
   "execution_count": 521,
   "metadata": {
    "collapsed": false
   },
   "outputs": [
    {
     "name": "stdout",
     "output_type": "stream",
     "text": [
      "Average session duration for month of June is 16.15 seconds.\n",
      "Share per session ratio for month of June is 0.94\n"
     ]
    }
   ],
   "source": [
    "monthly_avg, monthly_share_per_sess = agg_monthly(agg_d)\n",
    "\n",
    "print(\"Average session duration for month of June is {:.2f} seconds.\".format(monthly_avg))\n",
    "print(\"Share per session ratio for month of June is {:.2f}\".format(monthly_share_per_sess))"
   ]
  },
  {
   "cell_type": "code",
   "execution_count": 47,
   "metadata": {
    "collapsed": false
   },
   "outputs": [
    {
     "name": "stdout",
     "output_type": "stream",
     "text": [
      "number of sessions in June 1 537,951\n"
     ]
    }
   ],
   "source": [
    "print(\"number of sessions in June 1 2017 is {:,}\".format(agg_d['2017_06_01'].get_n_sess()))"
   ]
  }
 ],
 "metadata": {
  "kernelspec": {
   "display_name": "Python [default]",
   "language": "python",
   "name": "python3"
  },
  "language_info": {
   "codemirror_mode": {
    "name": "ipython",
    "version": 3
   },
   "file_extension": ".py",
   "mimetype": "text/x-python",
   "name": "python",
   "nbconvert_exporter": "python",
   "pygments_lexer": "ipython3",
   "version": "3.5.3"
  }
 },
 "nbformat": 4,
 "nbformat_minor": 1
}
