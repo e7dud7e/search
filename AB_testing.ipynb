{
 "cells": [
  {
   "cell_type": "markdown",
   "metadata": {},
   "source": [
    "# AB testing\n",
    "\n",
    "Eddy Shyu"
   ]
  },
  {
   "cell_type": "markdown",
   "metadata": {},
   "source": [
    "\n",
    "### Determining effectiveness of new search model\n",
    "Metrics that the new model may affect include:\n",
    "- Reducing duration per session.\n",
    "- Increasing the fraction of sessions that end in shares (number of sessions ending in share / all sessions). \n",
    "- Assuming that the viewindex indicates the order of the shared gif within the search results, the new model may decrease the average viewindex, indicating that users find the more relevant gifs at closer to the top of the list.\n",
    "\n",
    "\n",
    "### Additional data \n",
    "- Measure the load time of search results.  This checks if the new model takes more or less time to display gifs.  We can define a metric for session browsing duration as session duration - search result loading duration.\n",
    "- Label first time users so that we can target users who already had a keyboardid, searches and shares prior to the experiment.\n",
    "- practical significance level: Ask the management what amount of change in shares per session is significant enough in order to implement the change.  For example, assume 1% change is the minimum required for the change to be practically significant. The smaller the practical significant, the more observations needed to detect the change as statistically significant."
   ]
  },
  {
   "cell_type": "markdown",
   "metadata": {},
   "source": [
    "### Cohort (Population filtering)\n",
    "\n",
    "I would test the change just on ios (or just on android) users. Users would have an existing keyboardid from a previous day, so we are not including users for which the experiment is their first time using the app.  Limiting the cohort helps to reduce the variability within the experiment."
   ]
  },
  {
   "cell_type": "markdown",
   "metadata": {},
   "source": [
    "#### Unit of Diversion\n",
    "Randomly assign users to control or experiment groups at the start of each session.  A session starts with a textsearch event, and ends with a share.  If there are multiple searches, there are at most 30 seconds between searches, otherwise a session is considered to have ended at the last search before the 30 second timeout.  If a text search followed by a share has a duration exceeding 60 seconds, it is not counted as a session (it's an outlier that skews the results).\n",
    "\n",
    "#### Invariant metrics\n",
    "Check that experiment and control groups are randomly assigned by comparing hardwarecode and appversion between the two groups.  They should have similar fractions of each type.\n",
    "\n",
    "For example, count number of sessions that end with an appversion of iOS_GK_3.5 as a fraction of all sessions, separately for the control and experiment groups.  For the control group, it may be around 0.91 that use the latest version (based on all data for month of June 2017).  We expect the experiment group to be similar, so we expect the number of sessions with iOS_GK_3.5 appversion to be split about fifty-fifty between control and experiment groups.  \n",
    "\n",
    "Construct a confidence interval around the control group's fraction and check that the experiment group falls within this interval.  Assume we have N = 10,000 sessions in the control group.  Since we have about 53,000 sessions for one day on June 1, we can obtain 10,000 sessions within one day.\n",
    "\n",
    "null hypothesis\n",
    "\n",
    "$H_0 : diff = p_{exp} - p_{con} = 0$\n",
    "\n",
    "alternative hypothesis\n",
    "\n",
    "$H_A: diff = p_{exp} - p_{con} \\ne 0$\n",
    "\n",
    "$ x_{con} $ is number of control sessions with this appversion.\n",
    "\n",
    "$ x_{exp} $ is number of experiment sessions with this appversion.\n",
    "\n",
    "$ N_{con} $ total number of control sessions\n",
    "\n",
    "$ N_{exp} $ total number of experiment sessions\n",
    "\n",
    "p_{pool} is used to calculate pooled standard error\n",
    "\n",
    "$ p_{pool} = \\frac{x_{con} + x_{exp}}{N_{con} + N_{exp}}$\n",
    "\n",
    "$SE_{pool} = \\sqrt{p_{pool} \\times (1-p_{pool}) \\times ( \\frac{1}{n_{exp}} + \\frac{1}{n_{con}} )}$\n",
    "\n",
    "$ p_{con} = \\frac{x_{con}}{N_{con}} $\n",
    "\n",
    "$ p_{exp} = \\frac{x_{exp}}{N_{exp}} $\n",
    "\n",
    "$ diff = p_{exp} - p_{con}$\n",
    "\n",
    "$margin = 1.96 * SE_{pool} $\n",
    "\n",
    "confidence interval around diff is [diff - magin , diff + margin]\n",
    "\n",
    "If the confidence interval includes zero, then the control and experiment groups are not significantly different.  Otherwise, there might be unexpected differences between the two groups.\n",
    "\n",
    "Do a similar check fo the fraction of hardwarecodes that have the most common iphone version iPhone8,1|10.3.2, which I expect to be around 0.15 based on June 2, 2017 data."
   ]
  },
  {
   "cell_type": "code",
   "execution_count": 64,
   "metadata": {
    "collapsed": false
   },
   "outputs": [],
   "source": [
    "#invariant metric appversion, estimate fraction of users who have latest appversion\n",
    "\"\"\"\n",
    "Notice that my query's unit of analysis is a single search or share, which is smaller than a session.\n",
    "I would expect similar results when grouping textsearch and shares into sessions.\n",
    "\"\"\"\n",
    "appversion = query(\"select appversion, count(*) as n_ from ios_events group by appversion order by n_ desc;\")"
   ]
  },
  {
   "cell_type": "code",
   "execution_count": 41,
   "metadata": {
    "collapsed": false
   },
   "outputs": [],
   "source": [
    "appversion_df = pd.DataFrame(appversion, columns = ['appversion','n_'])"
   ]
  },
  {
   "cell_type": "code",
   "execution_count": 50,
   "metadata": {
    "collapsed": false
   },
   "outputs": [
    {
     "data": {
      "text/html": [
       "<div>\n",
       "<table border=\"1\" class=\"dataframe\">\n",
       "  <thead>\n",
       "    <tr style=\"text-align: right;\">\n",
       "      <th></th>\n",
       "      <th>appversion</th>\n",
       "      <th>n_</th>\n",
       "    </tr>\n",
       "  </thead>\n",
       "  <tbody>\n",
       "    <tr>\n",
       "      <th>0</th>\n",
       "      <td>iOS_GK_3.5</td>\n",
       "      <td>51574892</td>\n",
       "    </tr>\n",
       "    <tr>\n",
       "      <th>1</th>\n",
       "      <td>iOS_GK_3.4</td>\n",
       "      <td>2534672</td>\n",
       "    </tr>\n",
       "    <tr>\n",
       "      <th>2</th>\n",
       "      <td>iOS_GK_3.3</td>\n",
       "      <td>740755</td>\n",
       "    </tr>\n",
       "    <tr>\n",
       "      <th>3</th>\n",
       "      <td>iOS_GK_3.2</td>\n",
       "      <td>652714</td>\n",
       "    </tr>\n",
       "    <tr>\n",
       "      <th>4</th>\n",
       "      <td>iOS_GK_3.1.1</td>\n",
       "      <td>493676</td>\n",
       "    </tr>\n",
       "  </tbody>\n",
       "</table>\n",
       "</div>"
      ],
      "text/plain": [
       "     appversion        n_\n",
       "0    iOS_GK_3.5  51574892\n",
       "1    iOS_GK_3.4   2534672\n",
       "2    iOS_GK_3.3    740755\n",
       "3    iOS_GK_3.2    652714\n",
       "4  iOS_GK_3.1.1    493676"
      ]
     },
     "execution_count": 50,
     "metadata": {},
     "output_type": "execute_result"
    }
   ],
   "source": [
    "appversion_df.head(5)"
   ]
  },
  {
   "cell_type": "code",
   "execution_count": 49,
   "metadata": {
    "collapsed": false
   },
   "outputs": [
    {
     "name": "stdout",
     "output_type": "stream",
     "text": [
      "Fraction of appversions that are the latest iOS_GK_3.5 is 51,574,892 / 56,775,015 = 0.91\n"
     ]
    }
   ],
   "source": [
    "n_3_5 = appversion_df[appversion_df['appversion']=='iOS_GK_3.5']['n_'][0]\n",
    "n_total = sum(appversion_df['n_'])\n",
    "frac_3_5 = n_3_5 / n_total\n",
    "print(\"Fraction of appversions that are the latest iOS_GK_3.5 is {:,} / {:,} = {:.2f}\".format(n_3_5,n_total,frac_3_5))"
   ]
  },
  {
   "cell_type": "code",
   "execution_count": 53,
   "metadata": {
    "collapsed": false
   },
   "outputs": [],
   "source": [
    "hardware = query(\"select hardwarecode, count(*) as n_ from ios_events group by hardwarecode order by n_ desc;\")"
   ]
  },
  {
   "cell_type": "code",
   "execution_count": 54,
   "metadata": {
    "collapsed": true
   },
   "outputs": [],
   "source": [
    "hw_df = pd.DataFrame(hardware, columns=['hardwarecode','n_'])"
   ]
  },
  {
   "cell_type": "code",
   "execution_count": 56,
   "metadata": {
    "collapsed": false
   },
   "outputs": [
    {
     "data": {
      "text/html": [
       "<div>\n",
       "<table border=\"1\" class=\"dataframe\">\n",
       "  <thead>\n",
       "    <tr style=\"text-align: right;\">\n",
       "      <th></th>\n",
       "      <th>hardwarecode</th>\n",
       "      <th>n_</th>\n",
       "    </tr>\n",
       "  </thead>\n",
       "  <tbody>\n",
       "    <tr>\n",
       "      <th>0</th>\n",
       "      <td>iPhone8,1|10.3.2</td>\n",
       "      <td>8745090</td>\n",
       "    </tr>\n",
       "    <tr>\n",
       "      <th>1</th>\n",
       "      <td>iPhone7,2|10.3.2</td>\n",
       "      <td>5008911</td>\n",
       "    </tr>\n",
       "    <tr>\n",
       "      <th>2</th>\n",
       "      <td>iPhone9,1|10.3.2</td>\n",
       "      <td>4772529</td>\n",
       "    </tr>\n",
       "    <tr>\n",
       "      <th>3</th>\n",
       "      <td>iPhone9,2|10.3.2</td>\n",
       "      <td>3988862</td>\n",
       "    </tr>\n",
       "    <tr>\n",
       "      <th>4</th>\n",
       "      <td>iPhone8,2|10.3.2</td>\n",
       "      <td>3653159</td>\n",
       "    </tr>\n",
       "  </tbody>\n",
       "</table>\n",
       "</div>"
      ],
      "text/plain": [
       "       hardwarecode       n_\n",
       "0  iPhone8,1|10.3.2  8745090\n",
       "1  iPhone7,2|10.3.2  5008911\n",
       "2  iPhone9,1|10.3.2  4772529\n",
       "3  iPhone9,2|10.3.2  3988862\n",
       "4  iPhone8,2|10.3.2  3653159"
      ]
     },
     "execution_count": 56,
     "metadata": {},
     "output_type": "execute_result"
    }
   ],
   "source": [
    "hw_df.head(5)"
   ]
  },
  {
   "cell_type": "code",
   "execution_count": 61,
   "metadata": {
    "collapsed": false
   },
   "outputs": [
    {
     "name": "stdout",
     "output_type": "stream",
     "text": [
      "Fraction of hardwarecode that are the latest iPhone8,1|10.3.2 is 8,745,090 / 56,775,015 = 0.15\n"
     ]
    }
   ],
   "source": [
    "n_most = hw_df[hw_df['hardwarecode'] == 'iPhone8,1|10.3.2']['n_'][0]\n",
    "n_total = hw_df['n_'].sum()\n",
    "frac = n_most / n_total\n",
    "print(\"Fraction of hardwarecode that are the most common iPhone8,1|10.3.2 is {:,} / {:,} = {:.2f}\".format(n_most,n_total,frac))"
   ]
  },
  {
   "cell_type": "markdown",
   "metadata": {},
   "source": [
    "#### Evaluation metrics\n",
    "- duration per session (in seconds).  Unit of analysis is a session.\n",
    "- share fraction: (number of sessions ending in share / all sessions). Unit of analysis is a session.\n",
    "- view index: (order of chosen gif in list of search results).  Unit of analysis is a session that ends in a share\n",
    "\n",
    "##### duration per session\n",
    "For duration per session (in seconds), I'll use existing data to do some estimates. \n",
    "\n",
    "With a sample of 10,000 sessions, the sample distribution of the mean has a standard error of 0.14, margin of 1.96*0.14 = 0.28, and 95% confidence interval with a spread of about 0.56.  For 20,000 sessions, the sample distribution of the mean has a standard error of 0.10, margin of 0.20, and confidence interval has a spread of 0.39.\n",
    "\n",
    "Let's pretend that after we run the experiment, the original model has an average session duration of 16.15 seconds, and the new model's average session duration is 15.50 seconds.\n",
    "\n",
    "$x_{con} = 16.15$ based on past data.\n",
    "\n",
    "$x_{exp} = 15.80$ placeholder for actual results.\n",
    "\n",
    "Calculate pooled standard error by combining control and experiment observations.  $s$ is the sample standard deviation of these pooled observations.  I'm using the standard error with 20,000 observations as a guess for what it might be.\n",
    "\n",
    "$stderr_{pool} = \\frac{s}{\\sqrt{n_{con} + n_{exp}}} = 0.10$\n",
    "\n",
    "$margin_{pool} = 1.96 \\times stderr_{pool} = 0.20$\n",
    "\n",
    "Observed difference:\n",
    "\n",
    "$diff_{obs} = x_{exp} - x_{con}  = 0.30$\n",
    "\n",
    "confidence interval $(diff - margin, diff + margin) = ( 0.10, 0.50)$\n",
    "\n",
    "The null hypothesis is:\n",
    "$ H_0 : diff_0 = x_{exp} - x_{con} = 0$\n",
    "\n",
    "The observed diff has a confidence interval that does not include zero, so we can reject the null and assume that it's statistically significant.  If the desired practical significance is more than 0.30 seconds, it may still not be worth the change."
   ]
  },
  {
   "cell_type": "code",
   "execution_count": 70,
   "metadata": {
    "collapsed": false
   },
   "outputs": [
    {
     "name": "stdout",
     "output_type": "stream",
     "text": [
      "I have 537,951 sessions to work with for June 1, 2017\n"
     ]
    }
   ],
   "source": [
    "#for session duration, calculate mean and standard error on a sample of 5,000, 10,000, 20,000, 50,000 sessions\n",
    "d_sess_l = agg_d['2017_06_01'].get_d_sess_l()\n",
    "print(\"I have {:,} sessions to work with for June 1, 2017\".format(len(d_sess_l)))"
   ]
  },
  {
   "cell_type": "code",
   "execution_count": 85,
   "metadata": {
    "collapsed": true
   },
   "outputs": [],
   "source": [
    "def describe_distribution(d_sess_l, n):\n",
    "    d = d_sess_l[0:n]\n",
    "    mean = np.mean(d)\n",
    "    stdev = np.std(d)\n",
    "    stderr = stdev / np.sqrt(n)\n",
    "    margin = 1.96*stderr\n",
    "    left = mean - margin\n",
    "    right = mean + margin\n",
    "    \n",
    "    #if distribution isn't normal, use percentiles\n",
    "    left_pc = np.percentile(d,5)\n",
    "    right_pc = np.percentile(d,95)\n",
    "    \n",
    "    return mean, stderr, margin, left, right, left_pc, right_pc\n",
    "    "
   ]
  },
  {
   "cell_type": "code",
   "execution_count": 90,
   "metadata": {
    "collapsed": false
   },
   "outputs": [
    {
     "name": "stdout",
     "output_type": "stream",
     "text": [
      "5000 sessions, duration mean 17.18, stderr 0.20, margin 0.39, CI (16.78,17.57), CI range 0.79, 5pc, 95pc (2.0,47.0)\n",
      "10000 sessions, duration mean 17.39, stderr 0.14, margin 0.28, CI (17.11,17.67), CI range 0.56, 5pc, 95pc (2.0,48.0)\n",
      "20000 sessions, duration mean 17.65, stderr 0.10, margin 0.20, CI (17.45,17.84), CI range 0.39, 5pc, 95pc (2.0,47.0)\n",
      "50000 sessions, duration mean 17.59, stderr 0.06, margin 0.12, CI (17.46,17.71), CI range 0.25, 5pc, 95pc (3.0,47.0)\n"
     ]
    }
   ],
   "source": [
    "for n in [5000,10000,20000,50000]:\n",
    "    mean, stderr, margin, left, right, left_pc, right_pc = describe_distribution(d_sess_l, n)\n",
    "    print(\"{} sessions, duration mean {:.2f}, stderr {:.2f}, margin {:.2f}, CI ({:.2f},{:.2f}), CI range {:.2f}, 5pc, 95pc ({},{})\".format(n, mean,stderr,margin,left,right, right-left,left_pc,right_pc))"
   ]
  },
  {
   "cell_type": "markdown",
   "metadata": {},
   "source": [
    "#### Evaluation Metrics (continued)\n",
    "##### share fraction \n",
    "\n",
    "Share fraction is number of shared sessions divided by all sessions.  The unit of analysis for this metric is a session (the denominator). If we still choose a session as a unit of diversion, we can use an analytic estimate of the distribution using the binomial.  Otherwise, if we choose a unit of diversion as keyboardid, then the actual distribution may be larger, so we should calculate it empirically (get the sample's standard deviation and divide by square root of number of observations).\n",
    "\n",
    "###### sample size\n",
    "The sample size needed can be determined using the baseline fraction (0.94 based on June 2017), minimum practical difference (let's say 1%).  Using an [online calculator](http://www.evanmiller.org/ab-testing/sample-size.html), we need about 9,065 each in the control and experiment groups.  This is feasible, given that we have about 500,000 sessions in a day.  I'll use some made up numbers as an example.\n",
    "\n",
    "\n",
    "$ x_{con} = 9,400 $ is number of control sessions ending in a share.\n",
    "\n",
    "$ x_{exp} = 9,450 $ is number of experiment sessions ending in a share.\n",
    "\n",
    "$ N_{con} = 10,000 $ total number of control sessions\n",
    "\n",
    "$ N_{exp} = 10,000 $ total number of experiment sessions\n",
    "\n",
    "p_{pool} is used to calculate pooled standard error analytically.\n",
    "\n",
    "$ p_{pool} = \\frac{x_{con} + x_{exp}}{N_{con} + N_{exp}} = 0.9425$\n",
    "\n",
    "$SE_{pool} = \\sqrt{p_{pool} \\times (1-p_{pool}) \\times ( \\frac{1}{n_{exp}} + \\frac{1}{n_{con}} )} = 0.0033$\n",
    "\n",
    "$ p_{con} = \\frac{x_{con}}{N_{con}} = 0.9400$\n",
    "\n",
    "$ p_{exp} = \\frac{x_{exp}}{N_{exp}} = 0.9450$\n",
    "\n",
    "$ diff = p_{exp} - p_{con} = 0.0050$\n",
    "\n",
    "$margin = 1.96 * SE_{pool} = 0.006453$\n",
    "\n",
    "confidence interval around diff is [diff - margin , diff + margin] = (-0.0015,0.0115)\n",
    "\n",
    "If the confidence interval includes zero, then the control and experiment groups are not significantly different.  Otherwise, there might be unexpected differences between the two groups. \n",
    "\n",
    "In this example, the confidence interval includes zero, so we can't say that the difference is statistically significant."
   ]
  },
  {
   "cell_type": "code",
   "execution_count": 96,
   "metadata": {
    "collapsed": true
   },
   "outputs": [],
   "source": [
    "def share_metric():\n",
    "    x_con = 9400\n",
    "    x_exp = 9450\n",
    "    n_con = 10000\n",
    "    n_exp = 10000\n",
    "    p_pool = (x_con + x_exp) / (n_con + n_exp)\n",
    "    se_pool = np.sqrt(p_pool * (1-p_pool) *(1/n_exp + 1/n_con))\n",
    "    p_con = x_con / n_con\n",
    "    p_exp = x_exp / n_exp\n",
    "    diff = p_exp - p_con\n",
    "    margin = 1.96 * se_pool\n",
    "    left = diff - margin\n",
    "    right = diff + margin\n",
    "    return p_pool, se_pool, p_con, p_exp, diff, margin, left, right"
   ]
  },
  {
   "cell_type": "code",
   "execution_count": 100,
   "metadata": {
    "collapsed": false
   },
   "outputs": [
    {
     "name": "stdout",
     "output_type": "stream",
     "text": [
      "p_pool 0.9425, se_pool 0.0033, p_con 0.9400, p_exp 0.9450, diff 0.0050, margin 0.006453, CI (-0.0015,0.0115)\n"
     ]
    }
   ],
   "source": [
    "p_pool, se_pool, p_con, p_exp, diff, margin, left, right = share_metric()\n",
    "print(\"p_pool {:.4f}, se_pool {:.4f}, p_con {:.4f}, p_exp {:.4f}, diff {:.4f}, margin {:4f}, CI ({:.4f},{:.4f})\".format(p_pool, se_pool, p_con, p_exp, diff, margin, left, right))"
   ]
  },
  {
   "cell_type": "code",
   "execution_count": null,
   "metadata": {
    "collapsed": true
   },
   "outputs": [],
   "source": []
  },
  {
   "cell_type": "markdown",
   "metadata": {},
   "source": [
    "#### Directing traffic to the experiment\n",
    "\n",
    "Number of sessions per day varies from 400,000 to 660,000, and is usually lower on Friday, Saturday, and Sunday.  If we run the experiment on a weekend where we expect traffic to be around 400,000, then we can divert 2.5% each to the experiment group and control groups, so we'd expect to get about 10,000 sessions for each group.\n"
   ]
  },
  {
   "cell_type": "code",
   "execution_count": 116,
   "metadata": {
    "collapsed": false
   },
   "outputs": [
    {
     "data": {
      "text/html": [
       "<div>\n",
       "<table border=\"1\" class=\"dataframe\">\n",
       "  <thead>\n",
       "    <tr style=\"text-align: right;\">\n",
       "      <th></th>\n",
       "      <th>0</th>\n",
       "    </tr>\n",
       "  </thead>\n",
       "  <tbody>\n",
       "    <tr>\n",
       "      <th>count</th>\n",
       "      <td>30.000000</td>\n",
       "    </tr>\n",
       "    <tr>\n",
       "      <th>mean</th>\n",
       "      <td>531342.366667</td>\n",
       "    </tr>\n",
       "    <tr>\n",
       "      <th>std</th>\n",
       "      <td>80837.663260</td>\n",
       "    </tr>\n",
       "    <tr>\n",
       "      <th>min</th>\n",
       "      <td>386798.000000</td>\n",
       "    </tr>\n",
       "    <tr>\n",
       "      <th>25%</th>\n",
       "      <td>482859.500000</td>\n",
       "    </tr>\n",
       "    <tr>\n",
       "      <th>50%</th>\n",
       "      <td>535974.000000</td>\n",
       "    </tr>\n",
       "    <tr>\n",
       "      <th>75%</th>\n",
       "      <td>583975.500000</td>\n",
       "    </tr>\n",
       "    <tr>\n",
       "      <th>max</th>\n",
       "      <td>664194.000000</td>\n",
       "    </tr>\n",
       "  </tbody>\n",
       "</table>\n",
       "</div>"
      ],
      "text/plain": [
       "                   0\n",
       "count      30.000000\n",
       "mean   531342.366667\n",
       "std     80837.663260\n",
       "min    386798.000000\n",
       "25%    482859.500000\n",
       "50%    535974.000000\n",
       "75%    583975.500000\n",
       "max    664194.000000"
      ]
     },
     "execution_count": 116,
     "metadata": {},
     "output_type": "execute_result"
    }
   ],
   "source": [
    "pd.DataFrame(n_sess).describe()"
   ]
  },
  {
   "cell_type": "code",
   "execution_count": 115,
   "metadata": {
    "collapsed": false
   },
   "outputs": [
    {
     "data": {
      "image/png": "[encoded data removed]",
      "text/plain": [
       "<matplotlib.figure.Figure at 0x10e2b6080>"
      ]
     },
     "metadata": {},
     "output_type": "display_data"
    }
   ],
   "source": [
    "y_pos = np.arange(1,len(date_label)+1)\n",
    "plt.plot(y_pos, n_sess)\n",
    "plt.ylim([0,700000])\n",
    "plt.xticks(y_pos, date_label, rotation='vertical')\n",
    "plt.ylabel('number of sesions')\n",
    "plt.title('Number of Sessions for Each Day in June 2017')\n",
    "plt.show()"
   ]
  }
 ],
 "metadata": {
  "kernelspec": {
   "display_name": "Python [default]",
   "language": "python",
   "name": "python3"
  },
  "language_info": {
   "codemirror_mode": {
    "name": "ipython",
    "version": 3
   },
   "file_extension": ".py",
   "mimetype": "text/x-python",
   "name": "python",
   "nbconvert_exporter": "python",
   "pygments_lexer": "ipython3",
   "version": "3.5.3"
  }
 },
 "nbformat": 4,
 "nbformat_minor": 1
}
