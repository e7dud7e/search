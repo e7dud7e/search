{
 "cells": [
  {
   "cell_type": "markdown",
   "metadata": {},
   "source": [
    "# Search Word Suggestions\n",
    "\n",
    "Eddy Shyu\n",
    "\n",
    "\n",
    "Given a search term, suggest other search terms."
   ]
  },
  {
   "cell_type": "markdown",
   "metadata": {},
   "source": [
    "### Overview of approach\n",
    "\n",
    "- I assume that search terms assigned to the same shared gif are related.  I gather all search terms associated with the same shared gif and create inputs and outputs.\n",
    "- An input is a search term, and the output is the list of all the search terms related to it.  So, for instance, the model takes as input the search 'puppy', and targets a list of similar terms ['cute puppy', 'puppy dog', 'pup', 'doggy'].  I do this by one-hot encoding the search terms and then adding all the one-hot codes into one vector.  \n",
    "- I pass this data through a neural network so that it can learn to predict similar search terms by training on all of the groups of similar terms.\n",
    "\n",
    "\n",
    "### sample predictions\n",
    "\n",
    "- The predictions appear to do better for search terms that tend to occur more frequently.  Here are a few that turned out better.  I passed data through 8 times to get these predictions; normally I'd need to cycle through the data 10 to 100 times depending on the project:\n",
    "\n",
    "Trial 4b, 1 hidden layer, 8 epochs\n",
    "\n",
    "search term: excited || suggestions: yas, tgif, yes, yummy, vacation, yay, dan, excited, wonder woman, metal\n",
    "\n",
    "search term: i love you || suggestions: i miss you more, miss ypu, babys, i missed you, miss, love you, thinking of you, i miss you too, i need you, i miss you\n",
    "\n",
    "search term: yes || suggestions: of course, oh yeah, tehehe, jerking off, godamn right, ok, yes, excited, yea, for sure\n",
    "\n",
    "search term: what ever || suggestions: thats more like it, yes masta, thinking, yes sjr, bye, yes sit, you never know, whatevee, class, delicious\n",
    "\n",
    "search term: face palm || suggestions: hands, crazy, ouch, fairly odd parents, whining, delivery, michael jordan, rubbing, food delivery, prey\n",
    "\n",
    "search term: party || suggestions: miss congeniality kiss me, protozoa, swag, miss congenialitt, birthday girl, girls weekend, birthday, miss congeniality, zenon, birthday party\n",
    "\n",
    "search term: blink || suggestions: shocked white man, blinking eyes, man blinking, blinking, white man blinking, blink meme, white guy shocked, eye meme, blinks eyes, white guy blinking\n",
    "\n",
    "search term: wink || suggestions: i'm sure, jim halpert, beyonce, running naked, wink wink, naked run, don't do it, the beach, tongue wink, i dont know about that\n",
    "\n",
    "search term: puppy || suggestions: skeep, good nite, im going to sleep, going to bed, sleep tight, gnite, see you tomorroe, have a good night, goof night, tomorrow\n",
    "\n",
    "search term: kitten || suggestions: cat mittens, butt massage, kitten mitten, kitten mittens, you sure, mitten, mittens, are you, dory, keep telling yourself that\n",
    "\n",
    "search term: cute || suggestions: shane, aww, puppies, cheers tv, blood hounds dog, smoothie, cute puppies, kristen, dead chicken, tweety\n",
    "\n",
    "search term: funny || suggestions: undertale, dancing, midget, caddyshack, fat person, super fat, fat kid, fat asian, @rarijack, sans\n",
    "\n",
    "search term: obama || suggestions: you good, we don't need you, aristocats, let me live, i aint a snitch, boy bye, i aint no bitch, black tie, cleveland, south side\n",
    "\n",
    "search term: trump || suggestions: hard hat, @twelch78, donald trump, wrong trunp, trump wronf, donald wrong, wrong trump, shorty, wrong donald trump, trump wrong\n",
    "\n",
    "search term: taylor swift || suggestions: boy stop, sunday, wink, wizard of oz, rest in peace, wave, taylor, blank space, taylor swift 22, swift\n",
    "\n",
    "search term: beyonce || suggestions: good morning beyoncé, brush off shoulders, boss lady, emperors new groove, go fuck yourself, beyonce boss, boss, shoulders, stuck, beyonce good morning\n",
    "\n",
    "### Optimizing the model\n",
    "- For the search terms associated with the same gif, I already counted how often each search term occurs.  I can modify the inputs to put more emphasis on the more frequent search terms.  For instance, I can add more copies of the more frequent search terms into the training data.\n",
    "\n",
    "- I should also find an alternative to one-hot encoding search terms, because the neural net gets too big at the output layer, making it hard to train.  \n",
    "- One thing I can try is to first train the embedding layer and then use it as a word vector.  Then the output layer can try to predict the embedding layer (which is 300 units instead of 80,000).  Then I can use cosine distance (dot product of two vectors) to choose the term most similar to the output vector.  \n",
    "- In place of the trained word vector, I can use existing word2vec and GloVe vectors and find matching words within the search terms to choose a word vector for each search term.\n",
    "\n",
    "### Alternative Ideas\n",
    "\n",
    "- I can skip the neural network and focus on aggregating the groups of similar search terms.  For instance, more than one gif likely has the same search term assigned to it, so I could merge the groups of similar terms when I find that they both include the same text.\n",
    "- Use a nearest neighbors approach:  I can assign a word vector to each search term by finding words within the search that exist in word2vec or GLoVe.  Then use k-nearest neighbors to find search terms that have the same or similar word vector.\n",
    "- Use a collaborative filtering approach: Put the gifs and search term counts in a co-occurrence matrix.  For a search, find associated gifs, and from the gifs, find associated search terms.\n"
   ]
  },
  {
   "cell_type": "code",
   "execution_count": 2,
   "metadata": {
    "collapsed": true
   },
   "outputs": [],
   "source": [
    "import psycopg2\n",
    "import pandas as pd\n",
    "import numpy as np\n",
    "import matplotlib.pyplot as plt\n",
    "\n",
    "import time\n",
    "import numpy as np\n",
    "import tensorflow as tf\n",
    "#import utils\n",
    "from datetime import datetime\n",
    "import pickle\n",
    "from collections import OrderedDict\n",
    "import unittest\n",
    "from sklearn.model_selection import train_test_split\n",
    "from sklearn.preprocessing import LabelBinarizer\n",
    "from __future__ import print_function\n",
    "\n",
    "%matplotlib inline"
   ]
  },
  {
   "cell_type": "code",
   "execution_count": 30,
   "metadata": {
    "collapsed": true
   },
   "outputs": [],
   "source": []
  },
  {
   "cell_type": "code",
   "execution_count": 4,
   "metadata": {
    "collapsed": true
   },
   "outputs": [],
   "source": [
    "def query(q):\n",
    "    \"\"\"\n",
    "    Query and fetch data. Rollback if error\n",
    "    \"\"\"\n",
    "    try:\n",
    "        cur.execute(q)\n",
    "        return cur.fetchall()\n",
    "    except psycopg2.Error as e:\n",
    "        print(e.pgerror)\n",
    "        print(\"database error occured, rollback\")\n",
    "        con.rollback()"
   ]
  },
  {
   "cell_type": "markdown",
   "metadata": {},
   "source": [
    "#### Notes about the data\n",
    "\n",
    "Remove the blank (if len is zero, don't count it)\n",
    "\n",
    "Also remove if the word is 'Recents', because this is a keyword\n",
    "\n",
    "note that riffid =0 always has viewindex = -1, so I don't think it's an actual gif.\n",
    "\n",
    "riffid(s) are returned as strings\n",
    "\n",
    "Some searches are identical excep that one has whitespace between words and the other has none.  I'll want to fix this in data cleaning step when I have time.  For example, if I have \"face palm\" and I remove whitespace and match it to a search of \"facepalm\", then I can take that \"facepalm\" search and count it towards \"face palm\"."
   ]
  },
  {
   "cell_type": "code",
   "execution_count": 5,
   "metadata": {
    "collapsed": true
   },
   "outputs": [],
   "source": [
    "def get_riffid(thresh=50, fast=False):\n",
    "    \"\"\"\n",
    "    Note that 'favorites' looks like a keyword, as it doesn't fit the words that it's grouped with.\n",
    "    \"\"\"    \n",
    "    q_str = \" \\\n",
    "            select riffid, count(*) as n_ \\\n",
    "            from ios_events \\\n",
    "            where tags != '' \\\n",
    "            and riffid != 0 \\\n",
    "            group by riffid \\\n",
    "            having count(*) >= {} \\\n",
    "            order by n_ desc; \\\n",
    "            \".format(thresh)\n",
    "    \n",
    "    riffid = query(q_str)\n",
    "    riffid_l = [row[0] for row in riffid]\n",
    "    if fast:\n",
    "        return riffid_l\n",
    "    riffid_df = pd.DataFrame(riffid, columns=['riffid','n_'])\n",
    "\n",
    "    \n",
    "    return riffid, riffid_l, riffid_df"
   ]
  },
  {
   "cell_type": "code",
   "execution_count": 6,
   "metadata": {
    "collapsed": true
   },
   "outputs": [],
   "source": [
    "riffid, riffid_l, riffid_df = get_riffid(thresh=10)"
   ]
  },
  {
   "cell_type": "code",
   "execution_count": 7,
   "metadata": {
    "collapsed": false
   },
   "outputs": [
    {
     "data": {
      "text/html": [
       "<div>\n",
       "<style>\n",
       "    .dataframe thead tr:only-child th {\n",
       "        text-align: right;\n",
       "    }\n",
       "\n",
       "    .dataframe thead th {\n",
       "        text-align: left;\n",
       "    }\n",
       "\n",
       "    .dataframe tbody tr th {\n",
       "        vertical-align: top;\n",
       "    }\n",
       "</style>\n",
       "<table border=\"1\" class=\"dataframe\">\n",
       "  <thead>\n",
       "    <tr style=\"text-align: right;\">\n",
       "      <th></th>\n",
       "      <th>n_</th>\n",
       "    </tr>\n",
       "  </thead>\n",
       "  <tbody>\n",
       "    <tr>\n",
       "      <th>count</th>\n",
       "      <td>163382.000000</td>\n",
       "    </tr>\n",
       "    <tr>\n",
       "      <th>mean</th>\n",
       "      <td>126.983682</td>\n",
       "    </tr>\n",
       "    <tr>\n",
       "      <th>std</th>\n",
       "      <td>686.537257</td>\n",
       "    </tr>\n",
       "    <tr>\n",
       "      <th>min</th>\n",
       "      <td>10.000000</td>\n",
       "    </tr>\n",
       "    <tr>\n",
       "      <th>25%</th>\n",
       "      <td>16.000000</td>\n",
       "    </tr>\n",
       "    <tr>\n",
       "      <th>50%</th>\n",
       "      <td>31.000000</td>\n",
       "    </tr>\n",
       "    <tr>\n",
       "      <th>75%</th>\n",
       "      <td>77.000000</td>\n",
       "    </tr>\n",
       "    <tr>\n",
       "      <th>max</th>\n",
       "      <td>61184.000000</td>\n",
       "    </tr>\n",
       "  </tbody>\n",
       "</table>\n",
       "</div>"
      ],
      "text/plain": [
       "                  n_\n",
       "count  163382.000000\n",
       "mean      126.983682\n",
       "std       686.537257\n",
       "min        10.000000\n",
       "25%        16.000000\n",
       "50%        31.000000\n",
       "75%        77.000000\n",
       "max     61184.000000"
      ]
     },
     "execution_count": 7,
     "metadata": {},
     "output_type": "execute_result"
    }
   ],
   "source": [
    "riffid_df.describe()"
   ]
  },
  {
   "cell_type": "code",
   "execution_count": 8,
   "metadata": {
    "collapsed": false
   },
   "outputs": [
    {
     "name": "stdout",
     "output_type": "stream",
     "text": [
      "There are 163,382 riffids.\n"
     ]
    }
   ],
   "source": [
    "print(\"There are {:,} riffids.\".format(len(riffid_l)))"
   ]
  },
  {
   "cell_type": "code",
   "execution_count": 9,
   "metadata": {
    "collapsed": true
   },
   "outputs": [],
   "source": [
    "def tags_same_gif(riffid_l=['7513882','7212866'], fast=False):\n",
    "\n",
    "    riffid_l_in = \"('\" + '\\',\\''.join(riffid_l) + \"')\"\n",
    "    q_str = \"\\\n",
    "        select LOWER(tags) as tags, riffid, count(*) as n_ \\\n",
    "        from ios_events \\\n",
    "        where riffid in {} \\\n",
    "        and LOWER(tags) not in ('','recent','recents','favorites','favorite') \\\n",
    "        group by LOWER(tags), riffid \\\n",
    "        having count(*) >= 2 \\\n",
    "        order by riffid, n_ desc;\\\n",
    "        \".format(riffid_l_in)\n",
    "    #print(q_str)\n",
    "    tags = query(q_str)\n",
    "    if fast:\n",
    "        return tags\n",
    "    \n",
    "    tags_df = pd.DataFrame(tags,columns=['tags', 'riffid', 'n_'])\n",
    "    return tags, tags_df"
   ]
  },
  {
   "cell_type": "code",
   "execution_count": 10,
   "metadata": {
    "collapsed": false
   },
   "outputs": [
    {
     "name": "stdout",
     "output_type": "stream",
     "text": [
      "runtime 0:00:08.938714\n"
     ]
    }
   ],
   "source": [
    "start_t = datetime.now()\n",
    "tags, tags_df = tags_same_gif(riffid_l=riffid_l)\n",
    "print(\"runtime {}\".format(datetime.now() - start_t))\n",
    "data_vars = {'riffid_l':riffid_l,\n",
    "             'riffid_df': riffid_df,\n",
    "             'tags': tags,\n",
    "             'tags_df': tags_df\n",
    "            }\n",
    "data_file = 'data_vars.p'\n",
    "pickle.dump(data_vars,open(data_file, 'wb'), protocol=2)"
   ]
  },
  {
   "cell_type": "code",
   "execution_count": 11,
   "metadata": {
    "collapsed": false
   },
   "outputs": [
    {
     "data": {
      "text/html": [
       "<div>\n",
       "<style>\n",
       "    .dataframe thead tr:only-child th {\n",
       "        text-align: right;\n",
       "    }\n",
       "\n",
       "    .dataframe thead th {\n",
       "        text-align: left;\n",
       "    }\n",
       "\n",
       "    .dataframe tbody tr th {\n",
       "        vertical-align: top;\n",
       "    }\n",
       "</style>\n",
       "<table border=\"1\" class=\"dataframe\">\n",
       "  <thead>\n",
       "    <tr style=\"text-align: right;\">\n",
       "      <th></th>\n",
       "      <th>n_</th>\n",
       "    </tr>\n",
       "  </thead>\n",
       "  <tbody>\n",
       "    <tr>\n",
       "      <th>count</th>\n",
       "      <td>877666.000000</td>\n",
       "    </tr>\n",
       "    <tr>\n",
       "      <th>mean</th>\n",
       "      <td>21.646441</td>\n",
       "    </tr>\n",
       "    <tr>\n",
       "      <th>std</th>\n",
       "      <td>219.341571</td>\n",
       "    </tr>\n",
       "    <tr>\n",
       "      <th>min</th>\n",
       "      <td>2.000000</td>\n",
       "    </tr>\n",
       "    <tr>\n",
       "      <th>25%</th>\n",
       "      <td>2.000000</td>\n",
       "    </tr>\n",
       "    <tr>\n",
       "      <th>50%</th>\n",
       "      <td>4.000000</td>\n",
       "    </tr>\n",
       "    <tr>\n",
       "      <th>75%</th>\n",
       "      <td>9.000000</td>\n",
       "    </tr>\n",
       "    <tr>\n",
       "      <th>max</th>\n",
       "      <td>44282.000000</td>\n",
       "    </tr>\n",
       "  </tbody>\n",
       "</table>\n",
       "</div>"
      ],
      "text/plain": [
       "                  n_\n",
       "count  877666.000000\n",
       "mean       21.646441\n",
       "std       219.341571\n",
       "min         2.000000\n",
       "25%         2.000000\n",
       "50%         4.000000\n",
       "75%         9.000000\n",
       "max     44282.000000"
      ]
     },
     "execution_count": 11,
     "metadata": {},
     "output_type": "execute_result"
    }
   ],
   "source": [
    "tags_df.describe()"
   ]
  },
  {
   "cell_type": "markdown",
   "metadata": {
    "collapsed": true
   },
   "source": [
    "### Jump to here to load queried data\n",
    "group by riffid, then use for loop to get groups with the same riffid.\n",
    "\n",
    "extract the list of similar words and then turn them into input and output"
   ]
  },
  {
   "cell_type": "code",
   "execution_count": 12,
   "metadata": {
    "collapsed": true
   },
   "outputs": [],
   "source": [
    "data_file = 'data_vars.p'\n",
    "data_vars = pickle.load(open(data_file, 'rb'))"
   ]
  },
  {
   "cell_type": "code",
   "execution_count": 148,
   "metadata": {
    "collapsed": false
   },
   "outputs": [
    {
     "data": {
      "text/plain": [
       "['riffid_df',\n",
       " 'target_l',\n",
       " 'tags',\n",
       " 'input_l',\n",
       " 'int_to_search',\n",
       " 'tags_df',\n",
       " 'target_int',\n",
       " 'search_to_int',\n",
       " 'riffid_l',\n",
       " 'unique_search_s',\n",
       " 'tag_group_d',\n",
       " 'input_int']"
      ]
     },
     "execution_count": 148,
     "metadata": {},
     "output_type": "execute_result"
    }
   ],
   "source": [
    "data_vars.keys()"
   ]
  },
  {
   "cell_type": "code",
   "execution_count": 153,
   "metadata": {
    "collapsed": true
   },
   "outputs": [],
   "source": [
    "tags_df = data_vars['tags_df']"
   ]
  },
  {
   "cell_type": "code",
   "execution_count": 154,
   "metadata": {
    "collapsed": false
   },
   "outputs": [
    {
     "data": {
      "text/html": [
       "<div>\n",
       "<style>\n",
       "    .dataframe thead tr:only-child th {\n",
       "        text-align: right;\n",
       "    }\n",
       "\n",
       "    .dataframe thead th {\n",
       "        text-align: left;\n",
       "    }\n",
       "\n",
       "    .dataframe tbody tr th {\n",
       "        vertical-align: top;\n",
       "    }\n",
       "</style>\n",
       "<table border=\"1\" class=\"dataframe\">\n",
       "  <thead>\n",
       "    <tr style=\"text-align: right;\">\n",
       "      <th></th>\n",
       "      <th>tags</th>\n",
       "      <th>riffid</th>\n",
       "      <th>n_</th>\n",
       "    </tr>\n",
       "  </thead>\n",
       "  <tbody>\n",
       "    <tr>\n",
       "      <th>0</th>\n",
       "      <td>morning night</td>\n",
       "      <td>100769454</td>\n",
       "      <td>13</td>\n",
       "    </tr>\n",
       "    <tr>\n",
       "      <th>1</th>\n",
       "      <td>rooster teeth</td>\n",
       "      <td>100799838</td>\n",
       "      <td>6</td>\n",
       "    </tr>\n",
       "    <tr>\n",
       "      <th>2</th>\n",
       "      <td>@pattynonamee</td>\n",
       "      <td>100799838</td>\n",
       "      <td>3</td>\n",
       "    </tr>\n",
       "    <tr>\n",
       "      <th>3</th>\n",
       "      <td>:)</td>\n",
       "      <td>100815674</td>\n",
       "      <td>11</td>\n",
       "    </tr>\n",
       "    <tr>\n",
       "      <th>4</th>\n",
       "      <td>:)</td>\n",
       "      <td>100819670</td>\n",
       "      <td>8</td>\n",
       "    </tr>\n",
       "  </tbody>\n",
       "</table>\n",
       "</div>"
      ],
      "text/plain": [
       "            tags     riffid  n_\n",
       "0  morning night  100769454  13\n",
       "1  rooster teeth  100799838   6\n",
       "2  @pattynonamee  100799838   3\n",
       "3             :)  100815674  11\n",
       "4             :)  100819670   8"
      ]
     },
     "execution_count": 154,
     "metadata": {},
     "output_type": "execute_result"
    }
   ],
   "source": [
    "tags_df.head(5)"
   ]
  },
  {
   "cell_type": "code",
   "execution_count": 155,
   "metadata": {
    "collapsed": true
   },
   "outputs": [],
   "source": [
    "def remove_duplicates(search_l):\n",
    "    \"\"\"\n",
    "    example:\n",
    "    ['puppy dog', 'puppydog', 'cutepuppy', 'cute puppy']\n",
    "    use ordered dictionary to preserve popularity of search,\n",
    "    where key is search without any whitespace, \n",
    "    value is original searches with trailing space removed.  \n",
    "    Replace value if I find a string of longer length,\n",
    "    indicating that it has whitespace.\n",
    "    \n",
    "    'puppy dog '-> add 'puppydog': 'puppy dog'\n",
    "    'puppydog' -> find 'puppydog' has value 'puppy dog', which is longer than 'puppydog', don't add duplicate.\n",
    "    ' cutepuppy ' -> add 'cutepuppy': 'cutepuppy', since it's new\n",
    "    'cute puppy' -> replace 'cutepuppy: 'cute puppy', since string length is longer (after trimming whitespace)\n",
    "    \n",
    "    \"\"\"\n",
    "    \n",
    "    unique_d = OrderedDict()\n",
    "    \n",
    "    for s in search_l:\n",
    "        key = s.replace(' ', '')\n",
    "        val = s.strip()\n",
    "        if unique_d.get(key):\n",
    "            if len(val) > len(unique_d[key]):\n",
    "                unique_d[key] = val\n",
    "\n",
    "        else:\n",
    "            unique_d[key] = val\n",
    "\n",
    "    unique_l = list(unique_d.values())\n",
    "    return unique_l\n",
    "    "
   ]
  },
  {
   "cell_type": "code",
   "execution_count": 156,
   "metadata": {
    "collapsed": false
   },
   "outputs": [
    {
     "name": "stderr",
     "output_type": "stream",
     "text": [
      "test1 (__main__.TestRemoveDuplicates) ... ok\n",
      "test2 (__main__.TestRemoveDuplicates) ... ok\n",
      "\n",
      "----------------------------------------------------------------------\n",
      "Ran 2 tests in 0.002s\n",
      "\n",
      "OK\n"
     ]
    }
   ],
   "source": [
    "class TestRemoveDuplicates(unittest.TestCase):\n",
    "    def setUp(self):\n",
    "        self.l1 = ['puppy dog ', ' puppydog ', '  cutepuppy  ', 'cute puppy']\n",
    "        self.l2 = ['hereyougo', 'whatever', 'here you go ', 'hereyou go', 'what ever']\n",
    "        return\n",
    "\n",
    "    def tearDown(self):\n",
    "        self.l1 = None\n",
    "        self.l2 = None\n",
    "        return\n",
    "    \n",
    "    def test1(self):\n",
    "        unique_l = remove_duplicates(self.l1)\n",
    "        self.assertEqual(unique_l,['puppy dog','cute puppy'])\n",
    "\n",
    "    def test2(self):\n",
    "        unique_l = remove_duplicates(self.l2)\n",
    "        self.assertEqual(unique_l,['here you go','what ever'])\n",
    "    \n",
    "if __name__ == '__main__':\n",
    "    suite = unittest.TestLoader().loadTestsFromTestCase(TestRemoveDuplicates)\n",
    "    unittest.TextTestRunner(verbosity=2).run(suite)"
   ]
  },
  {
   "cell_type": "code",
   "execution_count": 186,
   "metadata": {
    "collapsed": true
   },
   "outputs": [],
   "source": [
    "\"\"\"\n",
    "Collect a dictionary where key is the most common search term,\n",
    "and value is the list of similar searches (all of them)\n",
    "\n",
    "Here, I can work on merging duplicates.\n",
    "\n",
    "I also want to add words to a set of unique words.\n",
    "\n",
    "Once I have the list of similar searches, create inputs and labels.\n",
    "Input is a single word, and outputs are all the other words in the similarity group.\n",
    "\n",
    "\"\"\"\n",
    "def get_groups_and_unique_searches(tags_df):\n",
    "    tags_by_riffid_df = tags_df.groupby('riffid')\n",
    "    \n",
    "    tag_group_d = dict() \n",
    "    unique_search_s = set()\n",
    "    n_vocab = 0\n",
    "    for riffid, tags_df in tags_by_riffid_df:\n",
    "        search_l = list(tags_df['tags'])\n",
    "        #most popular term is at index 0\n",
    "        unique_search_l = remove_duplicates(search_l)\n",
    "        #we need the list to have at least 2 similar searches\n",
    "        if len(unique_search_l) > 1:\n",
    "            n_vocab += len(unique_search_l)\n",
    "            unique_search_s.update(unique_search_l)\n",
    "            tag_group_d[unique_search_l[0]] = unique_search_l\n",
    "            \n",
    "    print(\"n_vocab (includes duplicates) {:,}\".format(n_vocab))\n",
    "    return tag_group_d, unique_search_s"
   ]
  },
  {
   "cell_type": "code",
   "execution_count": 187,
   "metadata": {
    "collapsed": false
   },
   "outputs": [
    {
     "name": "stdout",
     "output_type": "stream",
     "text": [
      "n_vocab 798,314\n"
     ]
    }
   ],
   "source": [
    "tag_group_d, unique_search_s = get_groups_and_unique_searches(tags_df)"
   ]
  },
  {
   "cell_type": "code",
   "execution_count": 188,
   "metadata": {
    "collapsed": true
   },
   "outputs": [],
   "source": [
    "#verify that keywords like recent and favorites not in the tags\n",
    "if tag_group_d.get('favorites'):\n",
    "    print(\"should not be here\")\n",
    "if tag_group_d.get('favorite'):\n",
    "    print(\"should not be here\")\n",
    "if tag_group_d.get('recent'):\n",
    "    print(\"should not be here\")\n",
    "if tag_group_d.get('recents'):\n",
    "    print(\"should not be here\")"
   ]
  },
  {
   "cell_type": "code",
   "execution_count": 189,
   "metadata": {
    "collapsed": false
   },
   "outputs": [
    {
     "name": "stdout",
     "output_type": "stream",
     "text": [
      "There are 32,428 groups of similar searches and 181,151 unique searches\n"
     ]
    }
   ],
   "source": [
    "print(\"There are {:,} groups of similar searches and {:,} unique searches\".format(len(tag_group_d),len(unique_search_s)))"
   ]
  },
  {
   "cell_type": "code",
   "execution_count": 190,
   "metadata": {
    "collapsed": true
   },
   "outputs": [],
   "source": [
    "data_vars['tag_group_d'] = tag_group_d\n",
    "data_vars['unique_search_s'] = unique_search_s\n",
    "\n",
    "data_file = 'data_vars.p'\n",
    "pickle.dump(data_vars,open(data_file, 'wb'), protocol=2)"
   ]
  },
  {
   "cell_type": "markdown",
   "metadata": {},
   "source": [
    "### Create input and targets\n",
    "\n",
    "input is a single search term, target a set of similar search terms.\n",
    "\n",
    "I will one-hot encode the targets and combine the one-hot encodings with a sum. When the neural net makes predictions, it will try to predict all similar words.  If I were to only provide one target word at a time, then the net will learn to decrease the predictions for correct words when the training data is only providing one word for it to match.\n",
    "\n",
    "Later, I may also have to handle when two different groups of words have overlapping search terms.  I'll need to merge these groups."
   ]
  },
  {
   "cell_type": "code",
   "execution_count": 25,
   "metadata": {
    "collapsed": true
   },
   "outputs": [],
   "source": [
    "data_file = 'data_vars.p'\n",
    "data_vars = pickle.load(open(data_file, 'rb'))\n",
    "\n",
    "tag_group_d = data_vars['tag_group_d']"
   ]
  },
  {
   "cell_type": "code",
   "execution_count": 191,
   "metadata": {
    "collapsed": false
   },
   "outputs": [
    {
     "data": {
      "text/html": [
       "<div>\n",
       "<style>\n",
       "    .dataframe thead tr:only-child th {\n",
       "        text-align: right;\n",
       "    }\n",
       "\n",
       "    .dataframe thead th {\n",
       "        text-align: left;\n",
       "    }\n",
       "\n",
       "    .dataframe tbody tr th {\n",
       "        vertical-align: top;\n",
       "    }\n",
       "</style>\n",
       "<table border=\"1\" class=\"dataframe\">\n",
       "  <thead>\n",
       "    <tr style=\"text-align: right;\">\n",
       "      <th></th>\n",
       "      <th>0</th>\n",
       "    </tr>\n",
       "  </thead>\n",
       "  <tbody>\n",
       "    <tr>\n",
       "      <th>count</th>\n",
       "      <td>32428.000000</td>\n",
       "    </tr>\n",
       "    <tr>\n",
       "      <th>mean</th>\n",
       "      <td>4.216387</td>\n",
       "    </tr>\n",
       "    <tr>\n",
       "      <th>std</th>\n",
       "      <td>3.666657</td>\n",
       "    </tr>\n",
       "    <tr>\n",
       "      <th>min</th>\n",
       "      <td>2.000000</td>\n",
       "    </tr>\n",
       "    <tr>\n",
       "      <th>25%</th>\n",
       "      <td>2.000000</td>\n",
       "    </tr>\n",
       "    <tr>\n",
       "      <th>50%</th>\n",
       "      <td>3.000000</td>\n",
       "    </tr>\n",
       "    <tr>\n",
       "      <th>75%</th>\n",
       "      <td>5.000000</td>\n",
       "    </tr>\n",
       "    <tr>\n",
       "      <th>max</th>\n",
       "      <td>108.000000</td>\n",
       "    </tr>\n",
       "  </tbody>\n",
       "</table>\n",
       "</div>"
      ],
      "text/plain": [
       "                  0\n",
       "count  32428.000000\n",
       "mean       4.216387\n",
       "std        3.666657\n",
       "min        2.000000\n",
       "25%        2.000000\n",
       "50%        3.000000\n",
       "75%        5.000000\n",
       "max      108.000000"
      ]
     },
     "execution_count": 191,
     "metadata": {},
     "output_type": "execute_result"
    }
   ],
   "source": [
    "# see the distribution of the length of each group of similar words\n",
    "group_len = [len(g) for g in tag_group_d.values()]\n",
    "group_len_df = pd.DataFrame(group_len)\n",
    "group_len_df.describe()"
   ]
  },
  {
   "cell_type": "code",
   "execution_count": 27,
   "metadata": {
    "collapsed": false
   },
   "outputs": [
    {
     "data": {
      "image/png": "[encoded data removed]",
      "text/plain": [
       "<matplotlib.figure.Figure at 0x7f3bffe6bf90>"
      ]
     },
     "metadata": {},
     "output_type": "display_data"
    }
   ],
   "source": [
    "group_len_df.hist(bins=100);"
   ]
  },
  {
   "cell_type": "code",
   "execution_count": 192,
   "metadata": {
    "collapsed": true
   },
   "outputs": [],
   "source": [
    "def get_input_target(group, index=0):\n",
    "    \n",
    "    if len(group) <=1:\n",
    "        return None, None\n",
    "    \n",
    "    if index < 0 or index > len(group)-1:\n",
    "        return None, None\n",
    "    \n",
    "    input_ = group[index]\n",
    "    target = group[:index] + group[index+1:]\n",
    "    \n",
    "    return input_, target"
   ]
  },
  {
   "cell_type": "code",
   "execution_count": 193,
   "metadata": {
    "collapsed": false
   },
   "outputs": [
    {
     "name": "stderr",
     "output_type": "stream",
     "text": [
      "test0 (__main__.TestGetInputTarget) ... ok\n",
      "test1 (__main__.TestGetInputTarget) ... ok\n",
      "test2 (__main__.TestGetInputTarget) ... ok\n",
      "test3 (__main__.TestGetInputTarget) ... ok\n",
      "\n",
      "----------------------------------------------------------------------\n",
      "Ran 4 tests in 0.004s\n",
      "\n",
      "OK\n"
     ]
    }
   ],
   "source": [
    "\n",
    "class TestGetInputTarget(unittest.TestCase):\n",
    "    def setUp(self):\n",
    "        self.l0 = ['zero']\n",
    "        self.l1 = ['zero','one']\n",
    "        self.l2 = ['zero','one','two','three','four']\n",
    "        self.l3 = ['zero','one','two','three','four','five','six','seven','eight']\n",
    "        return\n",
    "\n",
    "    def tearDown(self):\n",
    "        self.l0 = None\n",
    "        self.l1 = None\n",
    "        self.l2 = None\n",
    "        self.l3 = None\n",
    "        return\n",
    "    \n",
    "    def test0(self):\n",
    "        input_, target = get_input_target(self.l0,0)\n",
    "        self.assertIsNone(input_)\n",
    "        self.assertIsNone(target)\n",
    "        \n",
    "    def test1(self):\n",
    "        input_, target = get_input_target(self.l1,2)\n",
    "        self.assertIsNone(input_)\n",
    "        self.assertIsNone(target)\n",
    "        \n",
    "        input_, target = get_input_target(self.l1,0)\n",
    "        self.assertEqual(input_,'zero')\n",
    "        self.assertEqual(target,['one'])\n",
    "        \n",
    "    def test2(self):\n",
    "        input_, target = get_input_target(self.l2,1)\n",
    "        self.assertEqual(input_,'one')\n",
    "        self.assertEqual(target,['zero','two','three','four'])\n",
    "        \n",
    "    def test3(self):\n",
    "        input_, target = get_input_target(self.l3,5)\n",
    "        self.assertEqual(input_,'five')\n",
    "        self.assertEqual(target,['zero','one','two','three','four','six','seven','eight'])\n",
    "    \n",
    "if __name__ == '__main__':\n",
    "    suite = unittest.TestLoader().loadTestsFromTestCase(TestGetInputTarget)\n",
    "    unittest.TextTestRunner(verbosity=2).run(suite)\n"
   ]
  },
  {
   "cell_type": "code",
   "execution_count": 194,
   "metadata": {
    "collapsed": true
   },
   "outputs": [],
   "source": [
    "def get_input_target_all(tag_group_d):\n",
    "    \n",
    "    \"\"\"\n",
    "    Every pair of search terms within a group is an input and target pair.\n",
    "    Include the reverse as well (inputs are targets, targets are also inputs)\n",
    "    \n",
    "    example: target length of 6\n",
    "    l1 = ['one','two','three','four']\n",
    "    \n",
    "    input: 'one', target: 'two', \n",
    "    input: 'two', target: 'one'\n",
    "    etc.\n",
    "    \n",
    "    \"\"\"\n",
    "    input_l = []\n",
    "    target_l = []\n",
    "    for g in tag_group_d.values():\n",
    "        for i in range(len(g)):\n",
    "            \n",
    "            input_, target_ = get_input_target(g,i)\n",
    "            input_l.append(input_)\n",
    "            target_l.append(target_)\n",
    "           \n",
    "    return input_l, target_l\n",
    "    "
   ]
  },
  {
   "cell_type": "code",
   "execution_count": 205,
   "metadata": {
    "collapsed": false
   },
   "outputs": [
    {
     "name": "stderr",
     "output_type": "stream",
     "text": [
      "test0 (__main__.TestGetInputTargetAll) ... ok\n",
      "\n",
      "----------------------------------------------------------------------\n",
      "Ran 1 test in 0.001s\n",
      "\n",
      "OK\n"
     ]
    }
   ],
   "source": [
    "\n",
    "class TestGetInputTargetAll(unittest.TestCase):\n",
    "    def setUp(self):\n",
    "        self.d = {\n",
    "            'one': ['one', 'two'],\n",
    "            'a': ['a','b','c']\n",
    "        }\n",
    "        return\n",
    "\n",
    "    def tearDown(self):\n",
    "        self.d = None\n",
    "        return\n",
    "    \n",
    "    def test0(self):\n",
    "        input_l, target_l = get_input_target_all(self.d)\n",
    "        \n",
    "        self.assertEqual(input_l,['a', 'b', 'c', 'one', 'two'])\n",
    "        self.assertEqual(target_l,[['b', 'c'], ['a', 'c'], ['a', 'b'], ['two'], ['one']])\n",
    "    \n",
    "if __name__ == '__main__':\n",
    "    suite = unittest.TestLoader().loadTestsFromTestCase(TestGetInputTargetAll)\n",
    "    unittest.TextTestRunner(verbosity=2).run(suite)\n"
   ]
  },
  {
   "cell_type": "code",
   "execution_count": 195,
   "metadata": {
    "collapsed": true
   },
   "outputs": [],
   "source": [
    "input_l, target_l = get_input_target_all(tag_group_d)"
   ]
  },
  {
   "cell_type": "code",
   "execution_count": 198,
   "metadata": {
    "collapsed": false
   },
   "outputs": [
    {
     "name": "stdout",
     "output_type": "stream",
     "text": [
      "136,729, 136,729\n"
     ]
    }
   ],
   "source": [
    "print(\"{:,}, {:,}\".format(len(input_l), len(target_l)))"
   ]
  },
  {
   "cell_type": "code",
   "execution_count": 199,
   "metadata": {
    "collapsed": false
   },
   "outputs": [
    {
     "name": "stdout",
     "output_type": "stream",
     "text": [
      "input: fawn \n",
      "target: ['bambi legs']\n",
      "input: bambi legs \n",
      "target: ['fawn']\n",
      "input: in route \n",
      "target: ['damsel in distress', 'buckle in']\n",
      "input: damsel in distress \n",
      "target: ['in route', 'buckle in']\n",
      "input: buckle in \n",
      "target: ['in route', 'damsel in distress']\n",
      "input: sonja \n",
      "target: ['sonja morgan', 'sonia morgan']\n",
      "input: sonja morgan \n",
      "target: ['sonja', 'sonia morgan']\n",
      "input: sonia morgan \n",
      "target: ['sonja', 'sonja morgan']\n",
      "input: limp wrist \n",
      "target: ['flick of the wrist']\n",
      "input: flick of the wrist \n",
      "target: ['limp wrist']\n"
     ]
    }
   ],
   "source": [
    "for i in range(0,10):\n",
    "    print(\"input: {} \\ntarget: {}\".format(input_l[i],target_l[i]))"
   ]
  },
  {
   "cell_type": "code",
   "execution_count": 33,
   "metadata": {
    "collapsed": true
   },
   "outputs": [],
   "source": [
    "data_vars['input_l'] = input_l\n",
    "data_vars['target_l'] = target_l\n",
    "\n",
    "data_file = 'data_vars.p'\n",
    "pickle.dump(data_vars,open(data_file, 'wb'), protocol=2)"
   ]
  },
  {
   "cell_type": "markdown",
   "metadata": {},
   "source": [
    "#### convert searches to unique integers"
   ]
  },
  {
   "cell_type": "code",
   "execution_count": 3,
   "metadata": {
    "collapsed": true
   },
   "outputs": [],
   "source": [
    "data_file = 'data_vars.p'\n",
    "data_vars = pickle.load(open(data_file, 'rb'))"
   ]
  },
  {
   "cell_type": "code",
   "execution_count": 4,
   "metadata": {
    "collapsed": true
   },
   "outputs": [],
   "source": [
    "unique_search_s = data_vars['unique_search_s']\n",
    "input_l = data_vars['input_l']\n",
    "target_l = data_vars['target_l']"
   ]
  },
  {
   "cell_type": "markdown",
   "metadata": {},
   "source": [
    "#### follow up on unique search terms\n",
    "\n",
    "I was expecting the number of unique terms from input_l to equal unique_search_s, but it only has 80,115 whereas unique_search_s has 181,151.  For now, I'll get a new unique set based on the inputs.  It's smaller, which helps with one-hot encoding memory issues"
   ]
  },
  {
   "cell_type": "code",
   "execution_count": 8,
   "metadata": {
    "collapsed": false
   },
   "outputs": [
    {
     "data": {
      "text/plain": [
       "181151"
      ]
     },
     "execution_count": 8,
     "metadata": {},
     "output_type": "execute_result"
    }
   ],
   "source": [
    "len(unique_search_s)"
   ]
  },
  {
   "cell_type": "code",
   "execution_count": 22,
   "metadata": {
    "collapsed": true
   },
   "outputs": [],
   "source": [
    "unique_term = set(input_l)"
   ]
  },
  {
   "cell_type": "code",
   "execution_count": 23,
   "metadata": {
    "collapsed": false
   },
   "outputs": [
    {
     "data": {
      "text/plain": [
       "80115"
      ]
     },
     "execution_count": 23,
     "metadata": {},
     "output_type": "execute_result"
    }
   ],
   "source": [
    "len(unique_term)"
   ]
  },
  {
   "cell_type": "code",
   "execution_count": 24,
   "metadata": {
    "collapsed": true
   },
   "outputs": [],
   "source": [
    "def search_to_int_dictionaries(unique_term):\n",
    "    search_to_int = {s:i for i,s in enumerate(unique_term)}\n",
    "    int_to_search = {i:s for s,i in search_to_int.items()}\n",
    "    \n",
    "    return search_to_int, int_to_search"
   ]
  },
  {
   "cell_type": "code",
   "execution_count": 12,
   "metadata": {
    "collapsed": true
   },
   "outputs": [],
   "source": [
    "def convert_to_int(input_l, target_l, search_to_int):\n",
    "    \"\"\"\n",
    "    Notice that target_int is a list of lists, and not a numpy array.\n",
    "    This is because the inner list length varies for each item.\n",
    "    \"\"\"\n",
    "    input_int = np.array([search_to_int[s] for s in input_l])\n",
    "    target_int = [ [search_to_int[s] for s in l] for l in target_l]\n",
    "\n",
    "    return input_int, target_int"
   ]
  },
  {
   "cell_type": "code",
   "execution_count": 13,
   "metadata": {
    "collapsed": true
   },
   "outputs": [],
   "source": [
    "search_to_int, int_to_search = search_to_int_dictionaries(unique_term)\n",
    "input_int, target_int = convert_to_int(input_l, target_l, search_to_int)"
   ]
  },
  {
   "cell_type": "code",
   "execution_count": 17,
   "metadata": {
    "collapsed": true
   },
   "outputs": [],
   "source": [
    "def one_hot_encode(idx, n_vocab):\n",
    "    #this is faster than using LabelBinarizer from sklearn\n",
    "    one_hot = np.zeros(n_vocab)\n",
    "    one_hot[idx] = 1\n",
    "    return one_hot"
   ]
  },
  {
   "cell_type": "code",
   "execution_count": 207,
   "metadata": {
    "collapsed": false
   },
   "outputs": [
    {
     "data": {
      "text/plain": [
       "array([ 0.,  0.,  1.,  0.,  0.])"
      ]
     },
     "execution_count": 207,
     "metadata": {},
     "output_type": "execute_result"
    }
   ],
   "source": [
    "one_hot_encode(2,5)"
   ]
  },
  {
   "cell_type": "code",
   "execution_count": 8,
   "metadata": {
    "collapsed": true
   },
   "outputs": [],
   "source": [
    "def get_multi_hot_encoding(target_int, n_vocab):\n",
    "    \"\"\"\n",
    "    ## one hot encoding\n",
    "    This is faster now, but due to size, I'll run it during get_bach\n",
    "    \"\"\"\n",
    "\n",
    "    target_int_hot = []\n",
    "    for lst in target_int:\n",
    "        multi_hot = np.zeros(n_vocab)\n",
    "        for idx in lst:\n",
    "            multi_hot[idx] = 1\n",
    "        target_int_hot.append(multi_hot)\n",
    "        \n",
    "    return np.array(target_int_hot)"
   ]
  },
  {
   "cell_type": "code",
   "execution_count": 19,
   "metadata": {
    "collapsed": true
   },
   "outputs": [],
   "source": [
    "target_int_hot = get_multi_hot_encoding([ [1,2], [3,4] ], n_vocab=5)"
   ]
  },
  {
   "cell_type": "code",
   "execution_count": 20,
   "metadata": {
    "collapsed": false
   },
   "outputs": [
    {
     "data": {
      "text/plain": [
       "array([[ 0.,  1.,  1.,  0.,  0.],\n",
       "       [ 0.,  0.,  0.,  1.,  1.]])"
      ]
     },
     "execution_count": 20,
     "metadata": {},
     "output_type": "execute_result"
    }
   ],
   "source": [
    "target_int_hot"
   ]
  },
  {
   "cell_type": "code",
   "execution_count": 21,
   "metadata": {
    "collapsed": false
   },
   "outputs": [
    {
     "name": "stdout",
     "output_type": "stream",
     "text": [
      "unique search terms in input_int 80,115\n"
     ]
    }
   ],
   "source": [
    "print(\"unique search terms in input_int {:,}\".format(len(set(input_int))))"
   ]
  },
  {
   "cell_type": "code",
   "execution_count": 227,
   "metadata": {
    "collapsed": false
   },
   "outputs": [
    {
     "name": "stdout",
     "output_type": "stream",
     "text": [
      "unique search terms in unique_search_s 181,151\n"
     ]
    }
   ],
   "source": [
    "print(\"unique search terms in unique_term {:,}\".format(len(unique_term)))"
   ]
  },
  {
   "cell_type": "code",
   "execution_count": 26,
   "metadata": {
    "collapsed": false
   },
   "outputs": [
    {
     "name": "stdout",
     "output_type": "stream",
     "text": [
      "runtime for multi-hot encoding 0:00:00.022520\n",
      "(64, 80115)\n"
     ]
    }
   ],
   "source": [
    "#don't run the whole target, takes too long or size might be took big\n",
    "start_t = datetime.now()\n",
    "n_vocab = len(unique_term)\n",
    "target_int_hot = get_multi_hot_encoding(target_int[0:64], n_vocab)\n",
    "print(\"runtime for multi-hot encoding {}\".format(datetime.now() - start_t))\n",
    "print(target_int_hot.shape)"
   ]
  },
  {
   "cell_type": "code",
   "execution_count": 229,
   "metadata": {
    "collapsed": false
   },
   "outputs": [
    {
     "data": {
      "text/plain": [
       "array([  1.,   1.,   2.,   2.,   2.,   2.,   2.,   2.,   1.,   1.,   3.,\n",
       "         3.,   3.,   3.,   2.,   2.,   2.,   2.,   2.,   2.,   1.,   1.,\n",
       "         5.,   5.,   5.,   5.,   5.,   5.,   3.,   3.,   3.,   3.,   1.,\n",
       "         1.,   1.,   1.,   3.,   3.,   3.,   3.,   5.,   5.,   5.,   5.,\n",
       "         5.,   5.,   3.,   3.,   3.,   3.,   2.,   2.,   2.,  10.,  10.,\n",
       "        10.,  10.,  10.,  10.,  10.,  10.,  10.,  10.,  10.])"
      ]
     },
     "execution_count": 229,
     "metadata": {},
     "output_type": "execute_result"
    }
   ],
   "source": [
    "target_int_hot.sum(axis=1)"
   ]
  },
  {
   "cell_type": "code",
   "execution_count": 27,
   "metadata": {
    "collapsed": true
   },
   "outputs": [],
   "source": [
    "data_vars['search_to_int'] = search_to_int\n",
    "data_vars['int_to_search'] = int_to_search\n",
    "data_vars['input_int'] = input_int\n",
    "data_vars['target_int'] = target_int\n",
    "data_vars['unique_term'] = unique_term\n",
    "data_file = 'data_vars.p'\n",
    "pickle.dump(data_vars,open(data_file, 'wb'), protocol=2)"
   ]
  },
  {
   "cell_type": "markdown",
   "metadata": {},
   "source": [
    "#### checkpoint"
   ]
  },
  {
   "cell_type": "code",
   "execution_count": 3,
   "metadata": {
    "collapsed": true
   },
   "outputs": [],
   "source": [
    "#load input and target\n",
    "data_file = 'data_vars.p'\n",
    "data_vars = pickle.load(open(data_file,'rb'))"
   ]
  },
  {
   "cell_type": "code",
   "execution_count": 4,
   "metadata": {
    "collapsed": true
   },
   "outputs": [],
   "source": [
    "search_to_int = data_vars['search_to_int'] \n",
    "int_to_search = data_vars['int_to_search']\n",
    "input_int = data_vars['input_int']\n",
    "target_int = data_vars['target_int']\n",
    "\n",
    "#free up memory\n",
    "del data_vars"
   ]
  },
  {
   "cell_type": "markdown",
   "metadata": {},
   "source": [
    "### train test split"
   ]
  },
  {
   "cell_type": "code",
   "execution_count": 5,
   "metadata": {
    "collapsed": false
   },
   "outputs": [
    {
     "name": "stdout",
     "output_type": "stream",
     "text": [
      "Train shapes (x, y): (135361,) 135361\n",
      "Validation shapes (x, y): (684,) 684\n",
      "Test shapes (x, y): (684,) 684\n"
     ]
    }
   ],
   "source": [
    "x_train, x_test, y_train, y_test, i_train, i_test = train_test_split(input_int,\n",
    "                                                                     target_int,\n",
    "                                                                     range(len(target_int)),\n",
    "                                                                     test_size=0.01,\n",
    "                                                                     random_state=0)\n",
    "\n",
    "half_len = len(y_test)//2\n",
    "x_valid, y_valid = x_test[:half_len], y_test[:half_len]\n",
    "x_test, y_test = x_test[half_len:], y_test[half_len:]\n",
    "\n",
    "print(\"Train shapes (x, y):\", x_train.shape, len(y_train))\n",
    "print(\"Validation shapes (x, y):\", x_valid.shape, len(y_valid))\n",
    "print(\"Test shapes (x, y):\", x_test.shape, len(y_test))"
   ]
  },
  {
   "cell_type": "code",
   "execution_count": null,
   "metadata": {
    "collapsed": true
   },
   "outputs": [],
   "source": [
    "## hot encode y_valid and y_test"
   ]
  },
  {
   "cell_type": "code",
   "execution_count": 10,
   "metadata": {
    "collapsed": true
   },
   "outputs": [],
   "source": [
    "n_vocab = len(search_to_int)\n",
    "y_valid_hot = get_multi_hot_encoding(y_valid, n_vocab)"
   ]
  },
  {
   "cell_type": "code",
   "execution_count": 11,
   "metadata": {
    "collapsed": true
   },
   "outputs": [],
   "source": [
    "y_test_hot = get_multi_hot_encoding(y_test, n_vocab)"
   ]
  },
  {
   "cell_type": "markdown",
   "metadata": {},
   "source": [
    "#### get batches"
   ]
  },
  {
   "cell_type": "code",
   "execution_count": 12,
   "metadata": {
    "collapsed": true
   },
   "outputs": [],
   "source": [
    "def get_batches(input_, target_int, n_vocab, batch_size):\n",
    "    \n",
    "    n_batches = len(input_)//batch_size\n",
    "    \n",
    "    # only full batches\n",
    "    input_ = input_[:n_batches*batch_size]\n",
    "    \n",
    "    for idx in range(0, len(input_), batch_size):\n",
    "        x = input_[idx:idx+batch_size]\n",
    "        y = get_multi_hot_encoding(target_int[idx:idx+batch_size], n_vocab)\n",
    "        \n",
    "        yield x, y"
   ]
  },
  {
   "cell_type": "code",
   "execution_count": 33,
   "metadata": {
    "collapsed": false
   },
   "outputs": [
    {
     "name": "stdout",
     "output_type": "stream",
     "text": [
      "(64,)\n",
      "<type 'numpy.ndarray'>\n",
      "(64, 181151)\n",
      "<type 'numpy.ndarray'>\n",
      "[  4.   1.  35.   1.   1.   1.   2.  42.   8.   2.   3.   7.   2.   3.   3.\n",
      "   6.   3.   3.   7.   2.   2.   6.  11.  12.   5.  15.   3.  17.   2.   4.\n",
      "   2.   2.   6.   1.   6.   8.   2.   5.   5.   2.   2.   2.  15.   2.   3.\n",
      "   5.   6.  18.   9.  12.   2.   2.   9.   6.  11.  11.   2.   1.   4.   2.\n",
      "   1.   4.   7.   1.]\n",
      "(64,)\n",
      "<type 'numpy.ndarray'>\n",
      "(64, 181151)\n",
      "<type 'numpy.ndarray'>\n",
      "[  4.   6.   2.  14.   4.   6.   6.   4.   4.  13.   3.   4.   8.   7.   5.\n",
      "   1.   6.   3.   5.  10.   5.   3.   2.   1.   4.   7.   3.   4.  11.   4.\n",
      "   5.   7.   1.   1.   4.   1.   4.   4.   3.   2.   7.   2.   2.   2.  23.\n",
      "  64.   2.   2.   3.   7.   7.   9.  11.  37.   6.   1.   4.   5.  18.   3.\n",
      "   2.   7.   2.   2.]\n",
      "runtime 0:00:00.134667\n"
     ]
    }
   ],
   "source": [
    "\"\"\"\n",
    "Check get_batches\n",
    "It takes 2.1 seconds for one batch of size 256, slowness due to one hot encoding\n",
    "Takes 0.6 sc for batch of 64\n",
    "\"\"\"\n",
    "start_t = datetime.now()\n",
    "cnt = 0\n",
    "n_vocab = len(unique_search_s)\n",
    "for x, y in get_batches(input_=x_train, target_int=y_train, n_vocab=n_vocab, batch_size=64):\n",
    "    print(x.shape)\n",
    "    print(type(x))\n",
    "    print(y.shape)\n",
    "    print(type(y))\n",
    "    print(y.sum(axis=1))\n",
    "    cnt +=1\n",
    "    if cnt > 1:\n",
    "        break\n",
    "        \n",
    "print(\"runtime {}\".format(datetime.now() - start_t))"
   ]
  },
  {
   "cell_type": "code",
   "execution_count": 79,
   "metadata": {
    "collapsed": true
   },
   "outputs": [],
   "source": [
    "\n",
    "'''\n",
    "\n",
    "#probably don't need this function;\n",
    "I'm getting one-hot encoded targets using labelbinarizer\n",
    "and calling it within get_batches so that it processes only a few at a time\n",
    "\n",
    "\n",
    "def get_target_multi_hot_encoded(target_int, n_vocab):\n",
    "    \"\"\"\n",
    "    target_int: batch x number of similar search terms (varies)\n",
    "    target_l: batch x num of terms x one-hot depth\n",
    "    t within target_l: terms x one-hot depth\n",
    "    example t: [ [1,0,0], [0,1,0] ]\n",
    "    Reduce sum on axis 0 so that sum keeps the one-hot depth:\n",
    "    tf.reduce_sum(t,axis=0) : [1,1,0]\n",
    "    \n",
    "    Also expand dims so that it's now 2 dimensions.\n",
    "    Use axis 0 so that it's [ [1,1,0] ] : 1 row by 3 n_vocab columns\n",
    "    \n",
    "    Now concatenate the list along axis 0 so that it's a tensor\n",
    "    of size batch x n_vocab\n",
    "    \n",
    "    target_tensor = [ [1,1,0], [1,0,1] ]\n",
    "    \n",
    "    \"\"\"\n",
    "    target_l = [tf.one_hot(t, depth=n_vocab) for t in target_int ]\n",
    "    \n",
    "    \"\"\"\n",
    "    for t in target_l:\n",
    "        target_multi_hot = tf.reduce_sum(t, axis=0)\n",
    "        target_multi.append(tf.expand_dims(target_multi_hot, axis=0))\n",
    "    \"\"\"\n",
    "    #use comprehension to make it faster\n",
    "    target_multi = [ tf.expand_dims(tf.reduce_sum(t, axis=0), axis=0)  for t in target_l]\n",
    "    \n",
    "    target_tensor = tf.concat(target_multi, axis=0)\n",
    "    \n",
    "    return target_tensor\n",
    "    \n",
    "'''"
   ]
  },
  {
   "cell_type": "code",
   "execution_count": null,
   "metadata": {
    "collapsed": true
   },
   "outputs": [],
   "source": []
  },
  {
   "cell_type": "markdown",
   "metadata": {},
   "source": [
    "### build neural network"
   ]
  },
  {
   "cell_type": "code",
   "execution_count": 13,
   "metadata": {
    "collapsed": true
   },
   "outputs": [],
   "source": [
    "def leaky_relu(x,name,alpha=0.2):\n",
    "    \"\"\"\n",
    "    Leaky relu for activation function\n",
    "    \"\"\"\n",
    "    relu = tf.maximum(alpha * x, x)\n",
    "    relu = tf.identity(relu, name)\n",
    "    return relu"
   ]
  },
  {
   "cell_type": "code",
   "execution_count": 14,
   "metadata": {
    "collapsed": true
   },
   "outputs": [],
   "source": [
    "def get_inputs(n_vocab):\n",
    "    \"\"\"\n",
    "    Notice we don't need to one-hot encode input because we're using embedding lookup.\n",
    "    \"\"\"\n",
    "    input_ = tf.placeholder(tf.int32,\n",
    "                             shape=[None],\n",
    "                             name=\"input\")\n",
    "    \n",
    "    target_ = tf.placeholder(tf.float32,\n",
    "                              shape=[None, n_vocab],\n",
    "                              name=\"target\")\n",
    "    \n",
    "    keep_prob_ = tf.placeholder(tf.float32, name='keep_prob')\n",
    "    \n",
    "    is_training_ = tf.placeholder(tf.bool, name=\"is_training\")\n",
    "    \n",
    "    return input_, target_, keep_prob_, is_training_"
   ]
  },
  {
   "cell_type": "code",
   "execution_count": 46,
   "metadata": {
    "collapsed": false
   },
   "outputs": [
    {
     "name": "stdout",
     "output_type": "stream",
     "text": [
      "input_: Tensor(\"input:0\", shape=(?,), dtype=int32)\n",
      "target_: Tensor(\"target:0\", shape=(?, 80115), dtype=float32)\n",
      "keep_prob_: Tensor(\"keep_prob:0\", dtype=float32)\n",
      "is_training_: Tensor(\"is_training:0\", dtype=bool)\n"
     ]
    }
   ],
   "source": [
    "tf.reset_default_graph()\n",
    "n_vocab = len(unique_term)\n",
    "input_, target_, keep_prob_, is_training_ = get_inputs(n_vocab)\n",
    "\n",
    "print(\"input_:\",input_)\n",
    "print(\"target_:\",target_)\n",
    "print(\"keep_prob_:\",keep_prob_)\n",
    "print(\"is_training_:\",is_training_)"
   ]
  },
  {
   "cell_type": "code",
   "execution_count": 15,
   "metadata": {
    "collapsed": true
   },
   "outputs": [],
   "source": [
    "def get_embedding(input_, n_vocab, n_embedding):\n",
    "    embedding = tf.Variable(tf.random_uniform((n_vocab, n_embedding), -1, 1))\n",
    "    embed = tf.nn.embedding_lookup(embedding, input_)\n",
    "    \n",
    "    return embed"
   ]
  },
  {
   "cell_type": "code",
   "execution_count": 48,
   "metadata": {
    "collapsed": false
   },
   "outputs": [
    {
     "name": "stdout",
     "output_type": "stream",
     "text": [
      "n_vocab 80,115, n_embedding 300\n",
      "embed Tensor(\"embedding_lookup:0\", shape=(?, 300), dtype=float32)\n"
     ]
    }
   ],
   "source": [
    "tf.reset_default_graph()\n",
    "\n",
    "n_vocab = len(unique_term)\n",
    "n_embedding = 300\n",
    "\n",
    "input_, target_, keep_prob_, is_training_ = get_inputs(n_vocab)\n",
    "embed = get_embedding(input_=input_, n_vocab=n_vocab, n_embedding=n_embedding)\n",
    "\n",
    "print(\"n_vocab {:,}, n_embedding {}\".format(n_vocab,n_embedding))\n",
    "print(\"embed {}\".format(embed))"
   ]
  },
  {
   "cell_type": "code",
   "execution_count": 16,
   "metadata": {
    "collapsed": true
   },
   "outputs": [],
   "source": [
    "def get_output(embed, keep_prob=0.5, is_training=True, n_target=n_vocab):\n",
    "    dense1 = tf.layers.dense(embed, units=512, name='fc_dense1')\n",
    "    bn1 = tf.layers.batch_normalization(dense1, training=is_training, name='fc_bn1')\n",
    "    relu1 = leaky_relu(bn1,name='fc_relu1')\n",
    "    drop1 = tf.nn.dropout(relu1, keep_prob=keep_prob,name='fc_drop1')\n",
    "    \n",
    "    \"\"\"\n",
    "    dense2 = tf.layers.dense(drop1, units=256, name='fc_dense2')\n",
    "    bn2 = tf.layers.batch_normalization(dense2, training=is_training, name='fc_bn2')\n",
    "    relu2 = leaky_relu(bn2,name='fc_relu2')\n",
    "    drop2 = tf.nn.dropout(relu2, keep_prob=keep_prob,name='fc_drop2')\n",
    "    \"\"\"\n",
    "    '''\n",
    "    Output should have 1 unit for each unique search term (n_vocab)\n",
    "    Use sigmoid, and not softmax, so that outputs are all independent\n",
    "    '''\n",
    "    logits = tf.layers.dense(drop1, units=n_target, name='logits')\n",
    "    output = tf.sigmoid(logits,name='output')\n",
    "    \n",
    "    return output"
   ]
  },
  {
   "cell_type": "code",
   "execution_count": 50,
   "metadata": {
    "collapsed": false
   },
   "outputs": [
    {
     "data": {
      "text/plain": [
       "<tf.Tensor 'output:0' shape=(?, 80115) dtype=float32>"
      ]
     },
     "execution_count": 50,
     "metadata": {},
     "output_type": "execute_result"
    }
   ],
   "source": [
    "tf.reset_default_graph()\n",
    "\n",
    "n_vocab = len(unique_term)\n",
    "n_embedding = 300\n",
    "\n",
    "input_, target_, keep_prob_, is_training_ = get_inputs(n_vocab)\n",
    "embed = get_embedding(input_=input_, n_vocab=n_vocab, n_embedding=n_embedding)\n",
    "output = get_output(embed, keep_prob=0.5, is_training=True, n_target=n_vocab)\n",
    "output"
   ]
  },
  {
   "cell_type": "code",
   "execution_count": 17,
   "metadata": {
    "collapsed": true
   },
   "outputs": [],
   "source": [
    "def get_loss(output, target_):\n",
    "    loss = tf.losses.log_loss(labels=target_,predictions=output)\n",
    "    loss = tf.identity(loss, name='loss')\n",
    "    return loss"
   ]
  },
  {
   "cell_type": "code",
   "execution_count": 52,
   "metadata": {
    "collapsed": false
   },
   "outputs": [
    {
     "data": {
      "text/plain": [
       "<tf.Tensor 'loss:0' shape=() dtype=float32>"
      ]
     },
     "execution_count": 52,
     "metadata": {},
     "output_type": "execute_result"
    }
   ],
   "source": [
    "tf.reset_default_graph()\n",
    "\n",
    "n_vocab = len(unique_term)\n",
    "n_embedding = 300\n",
    "\n",
    "input_, target_, keep_prob_, is_training_ = get_inputs(n_vocab)\n",
    "embed = get_embedding(input_=input_, n_vocab=n_vocab, n_embedding=n_embedding)\n",
    "output = get_output(embed, keep_prob=0.5, is_training=True, n_target=n_vocab)\n",
    "loss = get_loss(output, target_)\n",
    "loss"
   ]
  },
  {
   "cell_type": "code",
   "execution_count": 18,
   "metadata": {
    "collapsed": true
   },
   "outputs": [],
   "source": [
    "def get_opt(loss, learning_rate, beta1=0.5):\n",
    "    \"\"\"\n",
    "    param beta1: The exponential decay rate for the 1st moment in the optimizer\n",
    "    \n",
    "    use control dependencies so that batch normalization works properly during inference\n",
    "    \n",
    "    with tf.control_dependencies(tf.get_collection(tf.GraphKeys.UPDATE_OPS)):\n",
    "        opt = tf.train.AdamOptimizer(learning_rate, beta1=beta1).minimize(loss)\n",
    "\n",
    "    \"\"\"\n",
    "    with tf.control_dependencies(tf.get_collection(tf.GraphKeys.UPDATE_OPS)):\n",
    "        opt = tf.train.AdamOptimizer(learning_rate, beta1=beta1).minimize(loss)\n",
    "    return opt"
   ]
  },
  {
   "cell_type": "code",
   "execution_count": 19,
   "metadata": {
    "collapsed": true
   },
   "outputs": [],
   "source": [
    "\"\"\"\n",
    "accuracy\n",
    "\n",
    "compare targets_ with output\n",
    "\n",
    "if targets_ is 1, then output is correct when it's 0.5 or above\n",
    "if targets_ is 0, then output is correct when it's <0.5\n",
    "\"\"\"\n",
    "def get_accuracy(output,target):\n",
    "    diff = tf.subtract(target, output)\n",
    "    abs_diff = tf.abs(diff)\n",
    "    diff_is_less = tf.less(abs_diff, 0.5)\n",
    "    diff_is_less_float = tf.cast(diff_is_less, tf.float32)\n",
    "    accuracy = tf.reduce_mean(diff_is_less_float, name=\"accuracy\")\n",
    "    return accuracy"
   ]
  },
  {
   "cell_type": "code",
   "execution_count": 56,
   "metadata": {
    "collapsed": false
   },
   "outputs": [
    {
     "data": {
      "text/plain": [
       "<tf.Tensor 'accuracy:0' shape=() dtype=float32>"
      ]
     },
     "execution_count": 56,
     "metadata": {},
     "output_type": "execute_result"
    }
   ],
   "source": [
    "tf.reset_default_graph()\n",
    "\n",
    "n_vocab = len(unique_term)\n",
    "n_embedding = 300\n",
    "\n",
    "input_, target_, keep_prob_, is_training_ = get_inputs(n_vocab)\n",
    "embed = get_embedding(input_ = input_, n_vocab = n_vocab, n_embedding = n_embedding)\n",
    "output = get_output(embed, keep_prob=0.5, is_training=True, n_target=n_vocab)\n",
    "#loss = get_loss(output, target_)\n",
    "accuracy = get_accuracy(output,target_)\n",
    "accuracy"
   ]
  },
  {
   "cell_type": "code",
   "execution_count": 20,
   "metadata": {
    "collapsed": true
   },
   "outputs": [],
   "source": [
    "\"\"\"\n",
    "Train network (for each batch)\n",
    "\"\"\"\n",
    "def train(session, opt, keep_prob, input_batch, target_batch):\n",
    "    \"\"\"\n",
    "    Optimize the session on a batch of images and labels\n",
    "    : session: Current TensorFlow session\n",
    "    : optimizer: TensorFlow optimizer function\n",
    "    : keep_probability: keep probability\n",
    "    : feature_batch: Batch of Numpy image data\n",
    "    : label_batch: Batch of Numpy label data\n",
    "    \"\"\"\n",
    "    feed = {input_ : input_batch,\n",
    "            target_ : target_batch,\n",
    "            keep_prob_ : keep_prob,\n",
    "            is_training_ : True\n",
    "           }\n",
    "    session.run(opt, feed_dict=feed)"
   ]
  },
  {
   "cell_type": "code",
   "execution_count": 21,
   "metadata": {
    "collapsed": true
   },
   "outputs": [],
   "source": [
    "\"\"\"\n",
    "track training and validation losses\n",
    "\"\"\"\n",
    "def print_stats(session, x_train_batch, y_train_batch, x_valid, y_valid, loss, accuracy):\n",
    "    \"\"\"\n",
    "    Print information about loss and validation accuracy\n",
    "    : session: Current TensorFlow session\n",
    "    : feature_batch: Batch of Numpy image data\n",
    "    : label_batch: Batch of Numpy label data\n",
    "    : cost: TensorFlow cost function\n",
    "    : accuracy: TensorFlow accuracy function\n",
    "    \"\"\"\n",
    "    # training loss\n",
    "    train_loss_dict = {input_: x_train_batch, \n",
    "                       target_: y_train_batch,\n",
    "                       keep_prob_ : 1.,\n",
    "                       is_training_ : False\n",
    "                      }\n",
    "    #train_loss, train_accuracy = session.run([loss, accuracy], feed_dict=train_loss_dict)\n",
    "    train_loss = session.run([loss], feed_dict=train_loss_dict)\n",
    "    train_accuracy = session.run([accuracy], feed_dict=train_loss_dict)\n",
    "\n",
    "    #validation loss\n",
    "    valid_loss_dict = {input_: x_valid,\n",
    "                       target_: y_valid_hot,\n",
    "                       keep_prob_ : 1.,\n",
    "                       is_training_ : False\n",
    "                      }\n",
    "    #valid_loss, valid_accuracy = session.run([loss, accuracy], feed_dict=valid_loss_dict)\n",
    "    valid_loss = session.run([loss], feed_dict=valid_loss_dict)\n",
    "    valid_accuracy = session.run([accuracy], feed_dict=valid_loss_dict)\n",
    "        \n",
    "    #end while loop\n",
    "    #print(\"train loss {:.4f}, valid loss {:.4f}; train acc {:.4f}, valid acc {:.4f}\".format(train_loss, valid_loss, train_accuracy, valid_accuracy))\n",
    "    print(\"train loss {}, valid loss {}; train acc {}, valid acc {}\".format(train_loss, valid_loss, train_accuracy, valid_accuracy))\n",
    "    return train_loss, valid_loss"
   ]
  },
  {
   "cell_type": "code",
   "execution_count": 28,
   "metadata": {
    "collapsed": true
   },
   "outputs": [],
   "source": [
    "\"\"\"\n",
    "Build the network model\n",
    "\"\"\"\n",
    "\n",
    "\"\"\"\n",
    "hyper parameters\n",
    "\"\"\"\n",
    "LEARNING_RATE=0.001\n",
    "BETA1=0.5\n",
    "epochs=4\n",
    "BATCH_SIZE=64\n",
    "KEEP_PROB = 0.5\n",
    "\n",
    "n_vocab = len(search_to_int)\n",
    "n_embedding = 300\n",
    "\n",
    "#reset graph\n",
    "tf.reset_default_graph()\n",
    "\n",
    "input_, target_, keep_prob_, is_training_ = get_inputs(n_vocab)\n",
    "embed = get_embedding(input_=input_, n_vocab=n_vocab, n_embedding=n_embedding)\n",
    "output = get_output(embed, keep_prob=0.5, is_training=True, n_target=n_vocab)\n",
    "loss = get_loss(output, target_)\n",
    "accuracy = get_accuracy(output,target_)\n",
    "opt = get_opt(loss=loss, learning_rate=LEARNING_RATE, beta1=BETA1)"
   ]
  },
  {
   "cell_type": "markdown",
   "metadata": {},
   "source": [
    "## Train the model"
   ]
  },
  {
   "cell_type": "code",
   "execution_count": null,
   "metadata": {
    "collapsed": true
   },
   "outputs": [],
   "source": [
    "\"\"\"\n",
    "iterate through batches and train\n",
    "\n",
    "\"\"\"\n",
    "\n",
    "save_model_path = './saved_session'\n",
    "saver = tf.train.Saver()\n",
    "start_time = time.time()\n",
    "\n",
    "#save losses for each epoch \n",
    "train_loss_l = []\n",
    "valid_loss_l = []\n",
    "\n",
    "with tf.Session() as sess:\n",
    "    sess.run(tf.global_variables_initializer())\n",
    "    for epoch in range(epochs):\n",
    "        batch_i = 0\n",
    "        for x_train_batch, y_train_batch in get_batches(input_=x_train, target_int=y_train, n_vocab=n_vocab, batch_size=BATCH_SIZE):            \n",
    "            batch_i +=1\n",
    "            \n",
    "            print('Epoch {:>2}, batch {}, time {:.2f}m  '.format(epoch + 1, batch_i, (time.time()-start_time)/60), end='')\n",
    "            train(session=sess, opt=opt, keep_prob=KEEP_PROB, input_batch=x_train_batch, target_batch=y_train_batch)\n",
    "            train_loss, valid_loss = print_stats(session=sess, x_train_batch=x_train_batch, y_train_batch=y_train_batch, x_valid=x_valid, y_valid=y_valid, loss=loss, accuracy=accuracy)\n",
    "            train_loss_l.append(train_loss)\n",
    "            valid_loss_l.append(valid_loss)\n",
    "    \n",
    "        \n",
    "        save_path = saver.save(sess, save_model_path + \"_epoch_{0:02d}\".format(epoch))\n",
    "    \n",
    "    #save_path = saver.save(sess, save_model_path)"
   ]
  },
  {
   "cell_type": "code",
   "execution_count": null,
   "metadata": {
    "collapsed": true
   },
   "outputs": [],
   "source": [
    "\"\"\"\n",
    "Train from checkpoint\n",
    "see also:\n",
    "https://stackoverflow.com/questions/43243527/python-tensorflow-how-to-restart-training-with-optimizer-and-import-meta-graph\n",
    "\"\"\"\n",
    "epoch_prev = 5 #index 3 means 4 epochs before (count starts from 0).  So next epoch would be 5th epoch\n",
    "epochs=8 #count from 1\n",
    "save_model_path = './saved_session'\n",
    "saver = tf.train.import_meta_graph(save_model_path + \"_epoch_{0:02d}\".format(epoch_prev) + \".meta\")\n",
    "g = tf.get_default_graph()\n",
    "\n",
    "input_ = g.get_tensor_by_name('input:0')\n",
    "target_ = g.get_tensor_by_name('target:0')\n",
    "keep_prob_ = g.get_tensor_by_name('keep_prob:0')\n",
    "is_training_ = g.get_tensor_by_name('is_training:0')\n",
    "output = g.get_tensor_by_name('output:0')\n",
    "loss = g.get_tensor_by_name('loss:0')\n",
    "accuracy = g.get_tensor_by_name('accuracy:0')\n",
    "\n",
    "#opt = g.get_tensor_by_name(\"Adam\") #just use existing optimizer\n",
    "\"\"\"\n",
    "Note, if I want to load the optimizer, I first have to save it inside a collection:\n",
    "tf.add_to_collection(\"optimizer\", optimizer)\n",
    "Then load it:\n",
    "optimizer = tf.get_collection(\"optimizer\")[0]\n",
    "\"\"\"\n",
    "\n",
    "start_time = time.time()\n",
    "#save losses for each epoch \n",
    "train_loss_l = []\n",
    "valid_loss_l = []\n",
    "\n",
    "with tf.Session() as sess:\n",
    "    saver.restore(sess, save_model_path + \"_epoch_{0:02d}\".format(epoch_prev))\n",
    "    \n",
    "    for epoch in range(epoch_prev+1,epochs):\n",
    "        batch_i = 0\n",
    "        for x_train_batch, y_train_batch in get_batches(input_=x_train, target_int=y_train, n_vocab=n_vocab, batch_size=BATCH_SIZE):            \n",
    "            batch_i +=1\n",
    "            \n",
    "            print('Epoch {:>2}, batch {}, time {:.2f}m  '.format(epoch + 1, batch_i, (time.time()-start_time)/60), end='')\n",
    "            train(session=sess, opt=opt, keep_prob=KEEP_PROB, input_batch=x_train_batch, target_batch=y_train_batch)\n",
    "            train_loss, valid_loss = print_stats(session=sess, x_train_batch=x_train_batch, y_train_batch=y_train_batch, x_valid=x_valid, y_valid=y_valid, loss=loss, accuracy=accuracy)\n",
    "            train_loss_l.append(train_loss)\n",
    "            valid_loss_l.append(valid_loss)\n",
    "    \n",
    "        \n",
    "        save_path = saver.save(sess, save_model_path + \"_epoch_{0:02d}\".format(epoch))"
   ]
  },
  {
   "cell_type": "code",
   "execution_count": 41,
   "metadata": {
    "collapsed": true
   },
   "outputs": [],
   "source": [
    "\"\"\"\n",
    "plot training and validation\n",
    "\n",
    "\"\"\"\n",
    "def plot_losses(title=\"Training and Validation Log Loss\"):\n",
    "    fig, ax = plt.subplots(figsize=(20,10))\n",
    "\n",
    "    ax.plot(range(0,len(train_loss_l)*BATCH_SIZE, BATCH_SIZE),\n",
    "            train_loss_l,\n",
    "            label='training loss'\n",
    "           )\n",
    "\n",
    "    ax.plot(range(0,len(valid_loss_l)*BATCH_SIZE, BATCH_SIZE),\n",
    "            valid_loss_l,\n",
    "            label='validation loss')\n",
    "\n",
    "    ax.set_xlabel('Training steps')\n",
    "    ax.set_ylabel('Log Loss')\n",
    "    ax.set_title(title)\n",
    "    ax.legend(loc=1)\n",
    "    plt.grid(True)\n",
    "    plt.show();"
   ]
  },
  {
   "cell_type": "code",
   "execution_count": 74,
   "metadata": {
    "collapsed": false
   },
   "outputs": [
    {
     "data": {
      "image/png": "[encoded data removed]",
      "text/plain": [
       "<matplotlib.figure.Figure at 0x7f10b6505790>"
      ]
     },
     "metadata": {},
     "output_type": "display_data"
    }
   ],
   "source": [
    "plot_losses(title=\"Losses: trial 1\")\n",
    "\"\"\"\n",
    "trial 1: took 17 minutes for 1 epoch\n",
    "Epoch  1, batch 2115, time 16.97m  train loss [0.000973941], valid loss [0.00084493187]; train acc [0.9999193], valid acc [0.99990821]\n",
    "\n",
    "Had 2 hidden layers\n",
    "\n",
    "    dense1 = tf.layers.dense(embed, units=512, name='fc_dense1')\n",
    "    bn1 = tf.layers.batch_normalization(dense1, training=is_training, name='fc_bn1')\n",
    "    relu1 = leaky_relu(bn1,name='fc_relu1')\n",
    "    drop1 = tf.nn.dropout(relu1, keep_prob=keep_prob,name='fc_drop1')\n",
    "    \n",
    "    dense2 = tf.layers.dense(drop1, units=256, name='fc_dense2')\n",
    "    bn2 = tf.layers.batch_normalization(dense2, training=is_training, name='fc_bn2')\n",
    "    relu2 = leaky_relu(bn2,name='fc_relu2')\n",
    "    drop2 = tf.nn.dropout(relu2, keep_prob=keep_prob,name='fc_drop2')\n",
    "\"\"\""
   ]
  },
  {
   "cell_type": "code",
   "execution_count": 136,
   "metadata": {
    "collapsed": false
   },
   "outputs": [
    {
     "data": {
      "image/png": "[encoded data removed]",
      "text/plain": [
       "<matplotlib.figure.Figure at 0x7f10b23f9f50>"
      ]
     },
     "metadata": {},
     "output_type": "display_data"
    },
    {
     "data": {
      "text/plain": [
       "\"\\ntrial 2: took xx minutes for 1 epoch\\nEpoch  1, batch 2115, time 16.97m  train loss [0.000973941], valid loss [0.00084493187]; train acc [0.9999193], valid acc [0.99990821]\\n\\nHad 1 hidden layer only\\n\\n    dense1 = tf.layers.dense(embed, units=512, name='fc_dense1')\\n    bn1 = tf.layers.batch_normalization(dense1, training=is_training, name='fc_bn1')\\n    relu1 = leaky_relu(bn1,name='fc_relu1')\\n    drop1 = tf.nn.dropout(relu1, keep_prob=keep_prob,name='fc_drop1')\\n    \\n\""
      ]
     },
     "execution_count": 136,
     "metadata": {},
     "output_type": "execute_result"
    }
   ],
   "source": [
    "plot_losses(title=\"Losses: trial 2\")\n",
    "\"\"\"\n",
    "trial 2: took 18.2 minutes for 1 epoch\n",
    "Epoch  1, batch 2115, time 18.21m  train loss [0.00088472158], valid loss [0.00080440607]; train acc [0.99991935], valid acc [0.99990821]\n",
    "\n",
    "Had 1 hidden layer only\n",
    "\n",
    "    dense1 = tf.layers.dense(embed, units=512, name='fc_dense1')\n",
    "    bn1 = tf.layers.batch_normalization(dense1, training=is_training, name='fc_bn1')\n",
    "    relu1 = leaky_relu(bn1,name='fc_relu1')\n",
    "    drop1 = tf.nn.dropout(relu1, keep_prob=keep_prob,name='fc_drop1')\n",
    "    \n",
    "\"\"\""
   ]
  },
  {
   "cell_type": "code",
   "execution_count": 143,
   "metadata": {
    "collapsed": false
   },
   "outputs": [
    {
     "data": {
      "image/png": "[encoded data removed]",
      "text/plain": [
       "<matplotlib.figure.Figure at 0x7f10b5826550>"
      ]
     },
     "metadata": {},
     "output_type": "display_data"
    },
    {
     "data": {
      "text/plain": [
       "\"\\ntrial 3: took x minutes for 1 epoch\\nEpoch  2, batch 2115, time 36.29m  train loss [0.00080248737], valid loss [0.00080862199]; train acc [0.99991918], valid acc [0.99990833]\\n\\n2 epochs instead of 1\\nHad 1 hidden layer only\\n\\n    dense1 = tf.layers.dense(embed, units=512, name='fc_dense1')\\n    bn1 = tf.layers.batch_normalization(dense1, training=is_training, name='fc_bn1')\\n    relu1 = leaky_relu(bn1,name='fc_relu1')\\n    drop1 = tf.nn.dropout(relu1, keep_prob=keep_prob,name='fc_drop1')\\n    \\n\""
      ]
     },
     "execution_count": 143,
     "metadata": {},
     "output_type": "execute_result"
    }
   ],
   "source": [
    "\n",
    "\"\"\"\n",
    "trial 3: took x minutes for 1 epoch\n",
    "Epoch  2, batch 2115, time 36.29m  train loss [0.00080248737], valid loss [0.00080862199]; train acc [0.99991918], valid acc [0.99990833]\n",
    "\n",
    "2 epochs instead of 1\n",
    "Had 1 hidden layer only\n",
    "\n",
    "    dense1 = tf.layers.dense(embed, units=512, name='fc_dense1')\n",
    "    bn1 = tf.layers.batch_normalization(dense1, training=is_training, name='fc_bn1')\n",
    "    relu1 = leaky_relu(bn1,name='fc_relu1')\n",
    "    drop1 = tf.nn.dropout(relu1, keep_prob=keep_prob,name='fc_drop1')\n",
    "    \n",
    "\"\"\"\n",
    "plot_losses(title=\"Losses: trial 3\")"
   ]
  },
  {
   "cell_type": "code",
   "execution_count": 42,
   "metadata": {
    "collapsed": false
   },
   "outputs": [
    {
     "data": {
      "image/png": "[encoded data removed]",
      "text/plain": [
       "<matplotlib.figure.Figure at 0x7f349ff84f90>"
      ]
     },
     "metadata": {},
     "output_type": "display_data"
    }
   ],
   "source": [
    "\n",
    "\"\"\"\n",
    "trial 4: took 73 minutes for 1 epoch\n",
    "Epoch  4, batch 2115, time 72.88m  train loss [0.00063097937], valid loss [0.00086066965]; train acc [0.99992031], valid acc [0.99990815]\n",
    "\n",
    "train from checkpoint: 6 epochs total\n",
    "Epoch  6, batch 2115, time 36.69m  train loss [0.00050653511], valid loss [0.0009241933]; train acc [0.99992639], valid acc [0.99990374]\n",
    "\n",
    "train from checkpoint: 8 epochs total\n",
    "Epoch  8, batch 2115, time 37.11m  train loss [0.00035289], valid loss [0.00098491693]; train acc [0.99993473], valid acc [0.99990034]\n",
    "\n",
    "4 epochs instead of 2\n",
    "Had 1 hidden layer only\n",
    "\n",
    "    dense1 = tf.layers.dense(embed, units=512, name='fc_dense1')\n",
    "    bn1 = tf.layers.batch_normalization(dense1, training=is_training, name='fc_bn1')\n",
    "    relu1 = leaky_relu(bn1,name='fc_relu1')\n",
    "    drop1 = tf.nn.dropout(relu1, keep_prob=keep_prob,name='fc_drop1')\n",
    "    \n",
    "\"\"\"\n",
    "plot_losses(title=\"Losses: trial 4\")"
   ]
  },
  {
   "cell_type": "code",
   "execution_count": null,
   "metadata": {
    "collapsed": true
   },
   "outputs": [],
   "source": []
  },
  {
   "cell_type": "markdown",
   "metadata": {},
   "source": [
    "## Prediction on test sample"
   ]
  },
  {
   "cell_type": "code",
   "execution_count": 76,
   "metadata": {
    "collapsed": false
   },
   "outputs": [
    {
     "name": "stdout",
     "output_type": "stream",
     "text": [
      "INFO:tensorflow:Restoring parameters from ./saved_session\n",
      "test_loss:  0.000877013  test_accuracy:  0.999907\n"
     ]
    }
   ],
   "source": [
    "save_model_path = './saved_session'\n",
    "\n",
    "loaded_graph = tf.Graph()\n",
    "\n",
    "with tf.Session(graph=loaded_graph) as sess:\n",
    "    # Load model\n",
    "    loader = tf.train.import_meta_graph(save_model_path + '.meta')\n",
    "    loader.restore(sess, save_model_path)\n",
    "    \n",
    "    # Get Tensors from loaded model\n",
    "    loaded_input_ = loaded_graph.get_tensor_by_name('input:0')\n",
    "    loaded_target_ = loaded_graph.get_tensor_by_name('target:0')\n",
    "    loaded_keep_prob_ = loaded_graph.get_tensor_by_name('keep_prob:0')\n",
    "    loaded_is_training_ = loaded_graph.get_tensor_by_name('is_training:0')\n",
    "    loaded_output = loaded_graph.get_tensor_by_name('output:0')\n",
    "    loaded_loss = loaded_graph.get_tensor_by_name('loss:0')\n",
    "    loaded_accuracy = loaded_graph.get_tensor_by_name('accuracy:0')\n",
    "\n",
    "    test_feed = {\n",
    "        loaded_input_ : x_test,\n",
    "        loaded_target_ : y_test_hot,\n",
    "        loaded_keep_prob_ : 1.,\n",
    "        loaded_is_training_ : False\n",
    "    }\n",
    "    \n",
    "    test_loss, test_accuracy, test_output = sess.run([loaded_loss, loaded_accuracy, loaded_output], feed_dict=test_feed)\n",
    "    \n",
    "    print(\"test_loss: \", test_loss, \" test_accuracy: \", test_accuracy)"
   ]
  },
  {
   "cell_type": "code",
   "execution_count": 30,
   "metadata": {
    "collapsed": true
   },
   "outputs": [],
   "source": [
    "def get_pred(search_l=['excited'], n_suggest=10, search_to_int=search_to_int, int_to_search=int_to_search, epoch=3):\n",
    "    \"\"\"\n",
    "    \n",
    "    \"\"\"\n",
    "    \n",
    "    search_try = []\n",
    "    x_test = []\n",
    "    for s in search_l:\n",
    "        if s in search_to_int:\n",
    "            search_try.append(s)\n",
    "            x_test.append(search_to_int[s])\n",
    "\n",
    "    x_test = np.array(x_test, ndmin=1)\n",
    "    \n",
    "    save_model_path = './saved_session'\n",
    "\n",
    "    loaded_graph = tf.Graph()\n",
    "\n",
    "    with tf.Session(graph=loaded_graph) as sess:\n",
    "        # Load model\n",
    "        loader = tf.train.import_meta_graph(save_model_path + \"_epoch_{0:02d}\".format(epoch) + '.meta')\n",
    "        loader.restore(sess, save_model_path)\n",
    "\n",
    "        # Get Tensors from loaded model\n",
    "        loaded_input_ = loaded_graph.get_tensor_by_name('input:0')\n",
    "        loaded_target_ = loaded_graph.get_tensor_by_name('target:0')\n",
    "        loaded_keep_prob_ = loaded_graph.get_tensor_by_name('keep_prob:0')\n",
    "        loaded_is_training_ = loaded_graph.get_tensor_by_name('is_training:0')\n",
    "        loaded_output = loaded_graph.get_tensor_by_name('output:0')\n",
    "        loaded_loss = loaded_graph.get_tensor_by_name('loss:0')\n",
    "        loaded_accuracy = loaded_graph.get_tensor_by_name('accuracy:0')\n",
    "        \n",
    "        \n",
    "        test_feed = {\n",
    "            loaded_input_ : x_test,\n",
    "            loaded_keep_prob_ : 1.,\n",
    "            loaded_is_training_ : False\n",
    "        }\n",
    "\n",
    "        out_l = sess.run(loaded_output, feed_dict=test_feed)\n",
    "        pred_l = []\n",
    "        for o in out_l:\n",
    "            pred = one_hot_to_word(o, n_suggest=10)\n",
    "            pred_l.append(pred)\n",
    "        \n",
    "        \n",
    "        return search_try, pred_l"
   ]
  },
  {
   "cell_type": "code",
   "execution_count": 34,
   "metadata": {
    "collapsed": true
   },
   "outputs": [],
   "source": [
    "def one_hot_to_word(one_hot, n_suggest=10):\n",
    "    idx_l = np.argpartition(one_hot, -n_suggest)[-n_suggest:]\n",
    "    pred = []\n",
    "    for i in range(len(idx_l)):\n",
    "        pred.append(int_to_search[idx_l[i]])\n",
    "            \n",
    "    return pred"
   ]
  },
  {
   "cell_type": "code",
   "execution_count": null,
   "metadata": {
    "collapsed": true
   },
   "outputs": [],
   "source": []
  },
  {
   "cell_type": "code",
   "execution_count": 56,
   "metadata": {
    "collapsed": false
   },
   "outputs": [
    {
     "name": "stdout",
     "output_type": "stream",
     "text": [
      "INFO:tensorflow:Restoring parameters from ./saved_session\n"
     ]
    }
   ],
   "source": [
    "search_l = ['excited', 'i love you', 'yes', 'what ever', 'face palm', 'obama', 'party', 'blink', 'wink', 'puppy', 'kitten', 'cute', 'funny']\n",
    "last_epoch=5\n",
    "search_try, pred_l = get_pred(search_l=search_l, n_suggest=10, search_to_int=search_to_int, int_to_search=int_to_search, epoch=last_epoch)"
   ]
  },
  {
   "cell_type": "code",
   "execution_count": 36,
   "metadata": {
    "collapsed": false
   },
   "outputs": [
    {
     "name": "stdout",
     "output_type": "stream",
     "text": [
      "INFO:tensorflow:Restoring parameters from ./saved_session\n"
     ]
    }
   ],
   "source": []
  },
  {
   "cell_type": "code",
   "execution_count": 37,
   "metadata": {
    "collapsed": true
   },
   "outputs": [],
   "source": [
    "def print_search_suggestions(search_try, pred_l,title=\"\"):\n",
    "    print(title)\n",
    "    for i, search in enumerate(search_try):\n",
    "        print(\"search term: {} || suggestions: {}\\n\".format(search, ', '.join(pred_l[i])))"
   ]
  },
  {
   "cell_type": "code",
   "execution_count": 128,
   "metadata": {
    "collapsed": false
   },
   "outputs": [
    {
     "name": "stdout",
     "output_type": "stream",
     "text": [
      "search term: excited || suggestions: bye, miss you, kisses, love, cool, goodnight, cuddle, sex, love you, yes\n",
      "\n",
      "search term: i love you || suggestions: dick, youre amazing, love you more, no, cuddle, love you, love you so much, love, miss you, love you too\n",
      "\n",
      "search term: yes || suggestions: yes, fart, hours later, pooping, shocked, bye, sad, spongebob, funny, love you\n",
      "\n",
      "search term: what ever || suggestions: fuck, hey, bye, i miss you, cuddle, love you, youre amazing, happy, love, lol\n",
      "\n",
      "search term: face palm || suggestions: sleepy, love, sex, two hours later, no, one hour later, spongebob, love you, cuddle, hours later\n",
      "\n",
      "search term: obama || suggestions: love you so much, dance, kisses, love, no, funny, dick, spongebob, cuddle, love you\n",
      "\n",
      "search term: party || suggestions: sex, love you too, love, love you more, spongebob, bye, hey, love you, cuddle, love you so much\n",
      "\n",
      "search term: blink || suggestions: years later, kiss, shocked, funny, fuck, miss you, no, hey, south park, spongebob\n",
      "\n",
      "search term: wink || suggestions: hours later, sad, i miss you, no, miss you, love you, i love you too, shocked, wow, sex\n",
      "\n",
      "search term: puppy || suggestions: lol, yes, fuck, sex, sleepy, shocked, spongebob, funny, love you, hey\n",
      "\n",
      "search term: kitten || suggestions: three hours later, bye, no, aww, love you more, happy, cuddle, love, spongebob, love you\n",
      "\n",
      "search term: cute || suggestions: love you so much, cuddle, yes, shocked, omg, spongebob, no, oh, love you, love\n",
      "\n",
      "search term: funny || suggestions: miss you, kiss, cuddle, funny, fuck, love you, you, love, sex, fart\n",
      "\n"
     ]
    }
   ],
   "source": [
    "\n",
    "\"\"\"\n",
    "for trial 1\n",
    "\"\"\"\n",
    "for i, search in enumerate(search_try):\n",
    "    print(\"search term: {} || suggestions: {}\\n\".format(search, ', '.join(pred_l[i])))\n",
    "    "
   ]
  },
  {
   "cell_type": "code",
   "execution_count": 140,
   "metadata": {
    "collapsed": false
   },
   "outputs": [
    {
     "name": "stdout",
     "output_type": "stream",
     "text": [
      "Trial 2, 1 hidden layer\n",
      "search term: excited || suggestions: fart, later, breast, one hour later, funny, happy, laughing, no, spongebob, sex\n",
      "\n",
      "search term: i love you || suggestions: funny, i love you too, cuddle, love you so much, miss you, bye, love, tired, i miss you, love you\n",
      "\n",
      "search term: yes || suggestions: fight, you love me, i miss you, let me love you, cuddle, love, love you too, fuck, love you, poop\n",
      "\n",
      "search term: what ever || suggestions: cuddle, horny, excited, bye, i miss you, love, fuck, cool, love you, south park\n",
      "\n",
      "search term: face palm || suggestions: waiting, i miss you, kisses, okay, omg, oh, shocked, love you, no, spongebob\n",
      "\n",
      "search term: obama || suggestions: attention, later, love you, kisses, love, fuck you, hey, love you too, cuddle, spongebob\n",
      "\n",
      "search term: party || suggestions: horny, basketball wives, cuddle, oh, funny, spongebob, hey, sex, cool, miss you\n",
      "\n",
      "search term: blink || suggestions: fuck, miss you, dick, spongebob, funny, no, you, i miss you, love you, sex\n",
      "\n",
      "search term: wink || suggestions: te amo, kisses, love of my life, flirty, girlfriend, goodnight, thinking about you, kiss, hugs, love you\n",
      "\n",
      "search term: puppy || suggestions: several hours later, love you so much, youre amazing, later, three hours later, 5 hours later, love, yes, 30 minutes later, 5 years later\n",
      "\n",
      "search term: kitten || suggestions: oh, shocked, funny, this nigga, my nigga, spongebob, lol, sex, nigga, sleepy\n",
      "\n",
      "search term: cute || suggestions: wink, sleepy, happy, shocked, love you, fuck, okay, hi, love, cuddle\n",
      "\n",
      "search term: funny || suggestions: sex, fuck, kisses, tired, cuddle, love you, love, excited, spongebob, miss you\n",
      "\n"
     ]
    }
   ],
   "source": [
    "\"\"\"\n",
    "trial 2\n",
    "\"\"\"\n",
    "print_search_suggestions(search_try, pred_l,title=\"Trial 2, 1 hidden layer\")"
   ]
  },
  {
   "cell_type": "code",
   "execution_count": 144,
   "metadata": {
    "collapsed": false
   },
   "outputs": [
    {
     "name": "stdout",
     "output_type": "stream",
     "text": [
      "Trial 3, 1 hidden layer, 2 epochs\n",
      "search term: excited || suggestions: fart, later, breast, one hour later, funny, happy, laughing, no, spongebob, sex\n",
      "\n",
      "search term: i love you || suggestions: funny, i love you too, cuddle, love you so much, miss you, bye, love, tired, i miss you, love you\n",
      "\n",
      "search term: yes || suggestions: fight, you love me, i miss you, let me love you, cuddle, love, love you too, fuck, love you, poop\n",
      "\n",
      "search term: what ever || suggestions: cuddle, horny, excited, bye, i miss you, love, fuck, cool, love you, south park\n",
      "\n",
      "search term: face palm || suggestions: waiting, i miss you, kisses, okay, omg, oh, shocked, love you, no, spongebob\n",
      "\n",
      "search term: obama || suggestions: attention, later, love you, kisses, love, fuck you, hey, love you too, cuddle, spongebob\n",
      "\n",
      "search term: party || suggestions: horny, basketball wives, cuddle, oh, funny, spongebob, hey, sex, cool, miss you\n",
      "\n",
      "search term: blink || suggestions: fuck, miss you, dick, spongebob, funny, no, you, i miss you, love you, sex\n",
      "\n",
      "search term: wink || suggestions: te amo, kisses, love of my life, flirty, girlfriend, goodnight, thinking about you, kiss, hugs, love you\n",
      "\n",
      "search term: puppy || suggestions: several hours later, love you so much, youre amazing, later, three hours later, 5 hours later, love, yes, 30 minutes later, 5 years later\n",
      "\n",
      "search term: kitten || suggestions: oh, shocked, funny, this nigga, my nigga, spongebob, lol, sex, nigga, sleepy\n",
      "\n",
      "search term: cute || suggestions: wink, sleepy, happy, shocked, love you, fuck, okay, hi, love, cuddle\n",
      "\n",
      "search term: funny || suggestions: sex, fuck, kisses, tired, cuddle, love you, love, excited, spongebob, miss you\n",
      "\n"
     ]
    }
   ],
   "source": [
    "\"\"\"\n",
    "trial 3\n",
    "\"\"\"\n",
    "print_search_suggestions(search_try, pred_l,title=\"Trial 3, 1 hidden layer, 2 epochs\")"
   ]
  },
  {
   "cell_type": "code",
   "execution_count": 39,
   "metadata": {
    "collapsed": false
   },
   "outputs": [
    {
     "name": "stdout",
     "output_type": "stream",
     "text": [
      "Trial 4, 1 hidden layer, 2 epochs\n",
      "search term: excited || suggestions: hsppy dance, happy, freakin excited, jessie im so excited, spacehamster, snl excited, excited, so freakin excited, jumpibg excited, so excited snl\n",
      "\n",
      "search term: i love you || suggestions: kisses, love you more, miss, cute baby, i need you, cuddle, love you, i miss you, i love you too, i love you\n",
      "\n",
      "search term: yes || suggestions: no, food, absolutely, saved, yay, snoop, sex, excited, yes, gettin it\n",
      "\n",
      "search term: what ever || suggestions: vine, i will not be silenced, decisions, steve harvey, you'll never know, disney, tutu, whatevee, i will win, you never know\n",
      "\n",
      "search term: face palm || suggestions: catholic school, delivery, mr chow, fuck yall, nursing, school, nursing school, fuck yiu, rubbing hands, no school\n",
      "\n",
      "search term: obama || suggestions: super, seinfeld, sunnies, obama pizza, fuck you, cleveland, fuckers, yes sorry, banana hammock, paper\n",
      "\n",
      "search term: party || suggestions: excited, wayne's world, party, swag, old school, birthday party, dance, blue, dance party, asthma\n",
      "\n",
      "search term: blink || suggestions: white man shocked, eye meme, blinking eyes, white guy shocked, blink eyes, blink meme, blinking, shocked white man, shocked meme, white guy blinking\n",
      "\n",
      "search term: wink || suggestions: wink wink, you better, gif game is strong, you better not, massage, meme game strong, side smile, strong game, gif game strong, gif game\n",
      "\n",
      "search term: puppy || suggestions: see you tomorroe, good nighy, gnite, im going to sleep, night babe, nite, goof night, gn, good night my love, blankie\n",
      "\n",
      "search term: kitten || suggestions: raining money, wacky waving, kitten mittens, butt massage, i am, cat mittens, mitten, kitten mitten, mittens, be happy\n",
      "\n",
      "search term: cute || suggestions: animal, your cute, smoothie king, cute puppies, come back, cereal, pigs, santiago, ninenine, smoothie\n",
      "\n",
      "search term: funny || suggestions: throat punch, fat kid, fat sexy, stevie wonder, simpsons, undertale, fat super hero, super fat, midget, fat asian\n",
      "\n"
     ]
    }
   ],
   "source": [
    "\"\"\"\n",
    "trial 4\n",
    "\"\"\"\n",
    "print_search_suggestions(search_try, pred_l,title=\"Trial 4, 1 hidden layer, 2 epochs\")"
   ]
  },
  {
   "cell_type": "code",
   "execution_count": 57,
   "metadata": {
    "collapsed": false
   },
   "outputs": [
    {
     "name": "stdout",
     "output_type": "stream",
     "text": [
      "Trial 4b, 1 hidden layer, 4 epochs\n",
      "search term: excited || suggestions: dick, hsppy dance, happy, celebration, lady and the tramp, jumproping, happy  dance, sex, excited, @rtype\n",
      "\n",
      "search term: i love you || suggestions: i need you, you aint bout that life, miss, i miss you, i choose you, love you, come here, i miss you too, i love you, miss you already\n",
      "\n",
      "search term: yes || suggestions: jersey shore, zoolander, comedy gold, absolutely, head nod, good job, yes, looking, yeah buddy, excited\n",
      "\n",
      "search term: what ever || suggestions: caps lock, noises, shouting, noisey, stop yelling at me, whatevee, why are we yelling, noise, be loud, why are you yelling\n",
      "\n",
      "search term: face palm || suggestions: i know, give it to me, give me a kiss, why, friday, fart, disney, i failed you, pooping, fuck me\n",
      "\n",
      "search term: obama || suggestions: hey slut, youre lying, stop lyong, you aint gotta lie, lies, your lying, lie, you aint got to lie, that's a lie, sluts\n",
      "\n",
      "search term: party || suggestions: birthday girl, party, the office, waiting for you, birthday party, party animal, swag, fire, dance, birthday\n",
      "\n",
      "search term: blink || suggestions: wtf blink, blinking, white man blinking, blinking guy, shocked white man, confused white man, blibking, white guy shocked, white guy blinking, blink meme\n",
      "\n",
      "search term: wink || suggestions: thank gof, i would like to thank god, fewf, thank god he left, praise the lord, wipes sweat, praise god, thanks god, wink, whew thank god\n",
      "\n",
      "search term: puppy || suggestions: bed time, i failed, bye, baby sleep, cant sleep, tomorrow, baby face, sad puppy, go to bed, night night\n",
      "\n",
      "search term: kitten || suggestions: no love, how are you, prairie, butt massage, massage, kitten mitten, kitten mittens, cat mittens, mittens, mitten\n",
      "\n",
      "search term: cute || suggestions: cute, your cute, ur cute, so cufe, how cute, dead chicken, youre amazibg, youre cute, cuteness overload, bahamas pigs swimming\n",
      "\n",
      "search term: funny || suggestions: fat people, @pooscetter, tonta, rollarblade, cute, extra, ohhhhh, weird, caddyshack, funny\n",
      "\n"
     ]
    }
   ],
   "source": [
    "\"\"\"\n",
    "trial 4b\n",
    "\"\"\"\n",
    "search_l = ['excited', 'i love you', 'yes', 'what ever', 'face palm', 'obama', 'party', 'blink', 'wink', 'puppy', 'kitten', 'cute', 'funny']\n",
    "last_epoch=5\n",
    "search_try, pred_l = get_pred(search_l=search_l, n_suggest=10, search_to_int=search_to_int, int_to_search=int_to_search, epoch=last_epoch)\n",
    "print_search_suggestions(search_try, pred_l,title=\"Trial 4b, 1 hidden layer, 6 epochs\")"
   ]
  },
  {
   "cell_type": "code",
   "execution_count": 59,
   "metadata": {
    "collapsed": false
   },
   "outputs": [
    {
     "name": "stdout",
     "output_type": "stream",
     "text": [
      "INFO:tensorflow:Restoring parameters from ./saved_session\n",
      "Trial 4b, 1 hidden layer, 8 epochs\n",
      "search term: excited || suggestions: yas, tgif, yes, yummy, vacation, yay, dan, excited, wonder woman, metal\n",
      "\n",
      "search term: i love you || suggestions: i miss you more, miss ypu, babys, i missed you, miss, love you, thinking of you, i miss you too, i need you, i miss you\n",
      "\n",
      "search term: yes || suggestions: of course, oh yeah, tehehe, jerking off, godamn right, ok, yes, excited, yea, for sure\n",
      "\n",
      "search term: what ever || suggestions: thats more like it, yes masta, thinking, yes sjr, bye, yes sit, you never know, whatevee, class, delicious\n",
      "\n",
      "search term: face palm || suggestions: hands, crazy, ouch, fairly odd parents, whining, delivery, michael jordan, rubbing, food delivery, prey\n",
      "\n",
      "search term: party || suggestions: miss congeniality kiss me, protozoa, swag, miss congenialitt, birthday girl, girls weekend, birthday, miss congeniality, zenon, birthday party\n",
      "\n",
      "search term: blink || suggestions: shocked white man, blinking eyes, man blinking, blinking, white man blinking, blink meme, white guy shocked, eye meme, blinks eyes, white guy blinking\n",
      "\n",
      "search term: wink || suggestions: i'm sure, jim halpert, beyonce, running naked, wink wink, naked run, don't do it, the beach, tongue wink, i dont know about that\n",
      "\n",
      "search term: puppy || suggestions: skeep, good nite, im going to sleep, going to bed, sleep tight, gnite, see you tomorroe, have a good night, goof night, tomorrow\n",
      "\n",
      "search term: kitten || suggestions: cat mittens, butt massage, kitten mitten, kitten mittens, you sure, mitten, mittens, are you, dory, keep telling yourself that\n",
      "\n",
      "search term: cute || suggestions: shane, aww, puppies, cheers tv, blood hounds dog, smoothie, cute puppies, kristen, dead chicken, tweety\n",
      "\n",
      "search term: funny || suggestions: undertale, dancing, midget, caddyshack, fat person, super fat, fat kid, fat asian, @rarijack, sans\n",
      "\n",
      "search term: obama || suggestions: you good, we don't need you, aristocats, let me live, i aint a snitch, boy bye, i aint no bitch, black tie, cleveland, south side\n",
      "\n",
      "search term: trump || suggestions: hard hat, @twelch78, donald trump, wrong trunp, trump wronf, donald wrong, wrong trump, shorty, wrong donald trump, trump wrong\n",
      "\n",
      "search term: taylor swift || suggestions: boy stop, sunday, wink, wizard of oz, rest in peace, wave, taylor, blank space, taylor swift 22, swift\n",
      "\n",
      "search term: beyonce || suggestions: good morning beyoncé, brush off shoulders, boss lady, emperors new groove, go fuck yourself, beyonce boss, boss, shoulders, stuck, beyonce good morning\n",
      "\n"
     ]
    }
   ],
   "source": [
    "\"\"\"\n",
    "trial 4c\n",
    "\"\"\"\n",
    "search_l = ['excited', 'i love you', 'yes', 'what ever', 'face palm', 'party', 'blink', 'wink', 'puppy', 'kitten', 'cute', 'funny', 'obama', 'trump', 'taylor swift','beyonce']\n",
    "last_epoch=7\n",
    "search_try, pred_l = get_pred(search_l=search_l, n_suggest=10, search_to_int=search_to_int, int_to_search=int_to_search, epoch=last_epoch)\n",
    "print_search_suggestions(search_try, pred_l,title=\"Trial 4b, 1 hidden layer, 8 epochs\")"
   ]
  }
 ],
 "metadata": {
  "kernelspec": {
   "display_name": "Python 2",
   "language": "python",
   "name": "python2"
  },
  "language_info": {
   "codemirror_mode": {
    "name": "ipython",
    "version": 2
   },
   "file_extension": ".py",
   "mimetype": "text/x-python",
   "name": "python",
   "nbconvert_exporter": "python",
   "pygments_lexer": "ipython2",
   "version": "2.7.13"
  }
 },
 "nbformat": 4,
 "nbformat_minor": 1
}
